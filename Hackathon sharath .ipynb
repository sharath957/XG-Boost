{
 "cells": [
  {
   "cell_type": "code",
   "execution_count": 1,
   "metadata": {},
   "outputs": [],
   "source": [
    "import pandas as pd\n",
    "import numpy as np\n",
    "import seaborn as sns\n",
    "import matplotlib.pyplot as plt\n",
    "import warnings\n",
    "warnings.filterwarnings(action='ignore')\n",
    "pd.set_option('display.max_columns', None)"
   ]
  },
  {
   "cell_type": "code",
   "execution_count": 2,
   "metadata": {},
   "outputs": [],
   "source": [
    "train = pd.read_csv('Train.csv')\n",
    "test = pd.read_csv('Test.csv') \n"
   ]
  },
  {
   "cell_type": "code",
   "execution_count": 3,
   "metadata": {},
   "outputs": [],
   "source": [
    "train_data = train.copy()\n",
    "test_data = test.copy()"
   ]
  },
  {
   "cell_type": "code",
   "execution_count": 4,
   "metadata": {
    "scrolled": true
   },
   "outputs": [
    {
     "data": {
      "text/html": [
       "<div>\n",
       "<style scoped>\n",
       "    .dataframe tbody tr th:only-of-type {\n",
       "        vertical-align: middle;\n",
       "    }\n",
       "\n",
       "    .dataframe tbody tr th {\n",
       "        vertical-align: top;\n",
       "    }\n",
       "\n",
       "    .dataframe thead th {\n",
       "        text-align: right;\n",
       "    }\n",
       "</style>\n",
       "<table border=\"1\" class=\"dataframe\">\n",
       "  <thead>\n",
       "    <tr style=\"text-align: right;\">\n",
       "      <th></th>\n",
       "      <th>ID</th>\n",
       "      <th>Gender</th>\n",
       "      <th>CustomerType</th>\n",
       "      <th>Age</th>\n",
       "      <th>TypeTravel</th>\n",
       "      <th>Travel_Class</th>\n",
       "      <th>Travel_Distance</th>\n",
       "      <th>DepartureDelay_in_Mins</th>\n",
       "      <th>ArrivalDelay_in_Mins</th>\n",
       "      <th>Overall_Experience</th>\n",
       "      <th>Seat_comfort</th>\n",
       "      <th>Seat_Class</th>\n",
       "      <th>Arrival_time_convenient</th>\n",
       "      <th>Catering</th>\n",
       "      <th>Platform_location</th>\n",
       "      <th>Onboardwifi_service</th>\n",
       "      <th>Onboard_entertainment</th>\n",
       "      <th>Online_support</th>\n",
       "      <th>Onlinebooking_Ease</th>\n",
       "      <th>Onboard_service</th>\n",
       "      <th>Leg_room</th>\n",
       "      <th>Baggage_handling</th>\n",
       "      <th>Checkin_service</th>\n",
       "      <th>Cleanliness</th>\n",
       "      <th>Online_boarding</th>\n",
       "    </tr>\n",
       "  </thead>\n",
       "  <tbody>\n",
       "    <tr>\n",
       "      <th>0</th>\n",
       "      <td>2100001</td>\n",
       "      <td>Female</td>\n",
       "      <td>Loyal Customer</td>\n",
       "      <td>52.0</td>\n",
       "      <td>NaN</td>\n",
       "      <td>Business</td>\n",
       "      <td>272</td>\n",
       "      <td>0.0</td>\n",
       "      <td>5.0</td>\n",
       "      <td>0</td>\n",
       "      <td>need improvement</td>\n",
       "      <td>Green Car</td>\n",
       "      <td>excellent</td>\n",
       "      <td>excellent</td>\n",
       "      <td>very convinient</td>\n",
       "      <td>good</td>\n",
       "      <td>need improvement</td>\n",
       "      <td>acceptable</td>\n",
       "      <td>need improvement</td>\n",
       "      <td>need improvement</td>\n",
       "      <td>acceptable</td>\n",
       "      <td>need improvement</td>\n",
       "      <td>good</td>\n",
       "      <td>need improvement</td>\n",
       "      <td>poor</td>\n",
       "    </tr>\n",
       "    <tr>\n",
       "      <th>1</th>\n",
       "      <td>2100002</td>\n",
       "      <td>Male</td>\n",
       "      <td>Loyal Customer</td>\n",
       "      <td>48.0</td>\n",
       "      <td>Personal Travel</td>\n",
       "      <td>Eco</td>\n",
       "      <td>2200</td>\n",
       "      <td>9.0</td>\n",
       "      <td>0.0</td>\n",
       "      <td>0</td>\n",
       "      <td>poor</td>\n",
       "      <td>Ordinary</td>\n",
       "      <td>excellent</td>\n",
       "      <td>poor</td>\n",
       "      <td>need improvement</td>\n",
       "      <td>good</td>\n",
       "      <td>poor</td>\n",
       "      <td>good</td>\n",
       "      <td>good</td>\n",
       "      <td>excellent</td>\n",
       "      <td>need improvement</td>\n",
       "      <td>poor</td>\n",
       "      <td>need improvement</td>\n",
       "      <td>good</td>\n",
       "      <td>good</td>\n",
       "    </tr>\n",
       "    <tr>\n",
       "      <th>2</th>\n",
       "      <td>2100003</td>\n",
       "      <td>Female</td>\n",
       "      <td>Loyal Customer</td>\n",
       "      <td>43.0</td>\n",
       "      <td>Business travel</td>\n",
       "      <td>Business</td>\n",
       "      <td>1061</td>\n",
       "      <td>77.0</td>\n",
       "      <td>119.0</td>\n",
       "      <td>1</td>\n",
       "      <td>need improvement</td>\n",
       "      <td>Green Car</td>\n",
       "      <td>need improvement</td>\n",
       "      <td>need improvement</td>\n",
       "      <td>need improvement</td>\n",
       "      <td>need improvement</td>\n",
       "      <td>good</td>\n",
       "      <td>excellent</td>\n",
       "      <td>excellent</td>\n",
       "      <td>excellent</td>\n",
       "      <td>excellent</td>\n",
       "      <td>excellent</td>\n",
       "      <td>good</td>\n",
       "      <td>excellent</td>\n",
       "      <td>excellent</td>\n",
       "    </tr>\n",
       "    <tr>\n",
       "      <th>3</th>\n",
       "      <td>2100004</td>\n",
       "      <td>Female</td>\n",
       "      <td>Loyal Customer</td>\n",
       "      <td>44.0</td>\n",
       "      <td>Business travel</td>\n",
       "      <td>Business</td>\n",
       "      <td>780</td>\n",
       "      <td>13.0</td>\n",
       "      <td>18.0</td>\n",
       "      <td>0</td>\n",
       "      <td>acceptable</td>\n",
       "      <td>Ordinary</td>\n",
       "      <td>need improvement</td>\n",
       "      <td>NaN</td>\n",
       "      <td>need improvement</td>\n",
       "      <td>acceptable</td>\n",
       "      <td>need improvement</td>\n",
       "      <td>acceptable</td>\n",
       "      <td>acceptable</td>\n",
       "      <td>acceptable</td>\n",
       "      <td>acceptable</td>\n",
       "      <td>acceptable</td>\n",
       "      <td>good</td>\n",
       "      <td>acceptable</td>\n",
       "      <td>acceptable</td>\n",
       "    </tr>\n",
       "    <tr>\n",
       "      <th>4</th>\n",
       "      <td>2100005</td>\n",
       "      <td>Female</td>\n",
       "      <td>Loyal Customer</td>\n",
       "      <td>50.0</td>\n",
       "      <td>Business travel</td>\n",
       "      <td>Business</td>\n",
       "      <td>1981</td>\n",
       "      <td>0.0</td>\n",
       "      <td>0.0</td>\n",
       "      <td>1</td>\n",
       "      <td>acceptable</td>\n",
       "      <td>Ordinary</td>\n",
       "      <td>acceptable</td>\n",
       "      <td>acceptable</td>\n",
       "      <td>manageable</td>\n",
       "      <td>need improvement</td>\n",
       "      <td>good</td>\n",
       "      <td>excellent</td>\n",
       "      <td>good</td>\n",
       "      <td>good</td>\n",
       "      <td>good</td>\n",
       "      <td>good</td>\n",
       "      <td>good</td>\n",
       "      <td>good</td>\n",
       "      <td>good</td>\n",
       "    </tr>\n",
       "  </tbody>\n",
       "</table>\n",
       "</div>"
      ],
      "text/plain": [
       "        ID  Gender    CustomerType   Age       TypeTravel Travel_Class  \\\n",
       "0  2100001  Female  Loyal Customer  52.0              NaN     Business   \n",
       "1  2100002    Male  Loyal Customer  48.0  Personal Travel          Eco   \n",
       "2  2100003  Female  Loyal Customer  43.0  Business travel     Business   \n",
       "3  2100004  Female  Loyal Customer  44.0  Business travel     Business   \n",
       "4  2100005  Female  Loyal Customer  50.0  Business travel     Business   \n",
       "\n",
       "   Travel_Distance  DepartureDelay_in_Mins  ArrivalDelay_in_Mins  \\\n",
       "0              272                     0.0                   5.0   \n",
       "1             2200                     9.0                   0.0   \n",
       "2             1061                    77.0                 119.0   \n",
       "3              780                    13.0                  18.0   \n",
       "4             1981                     0.0                   0.0   \n",
       "\n",
       "   Overall_Experience      Seat_comfort Seat_Class Arrival_time_convenient  \\\n",
       "0                   0  need improvement  Green Car               excellent   \n",
       "1                   0              poor   Ordinary               excellent   \n",
       "2                   1  need improvement  Green Car        need improvement   \n",
       "3                   0        acceptable   Ordinary        need improvement   \n",
       "4                   1        acceptable   Ordinary              acceptable   \n",
       "\n",
       "           Catering Platform_location Onboardwifi_service  \\\n",
       "0         excellent   very convinient                good   \n",
       "1              poor  need improvement                good   \n",
       "2  need improvement  need improvement    need improvement   \n",
       "3               NaN  need improvement          acceptable   \n",
       "4        acceptable        manageable    need improvement   \n",
       "\n",
       "  Onboard_entertainment Online_support Onlinebooking_Ease   Onboard_service  \\\n",
       "0      need improvement     acceptable   need improvement  need improvement   \n",
       "1                  poor           good               good         excellent   \n",
       "2                  good      excellent          excellent         excellent   \n",
       "3      need improvement     acceptable         acceptable        acceptable   \n",
       "4                  good      excellent               good              good   \n",
       "\n",
       "           Leg_room  Baggage_handling   Checkin_service       Cleanliness  \\\n",
       "0        acceptable  need improvement              good  need improvement   \n",
       "1  need improvement              poor  need improvement              good   \n",
       "2         excellent         excellent              good         excellent   \n",
       "3        acceptable        acceptable              good        acceptable   \n",
       "4              good              good              good              good   \n",
       "\n",
       "  Online_boarding  \n",
       "0            poor  \n",
       "1            good  \n",
       "2       excellent  \n",
       "3      acceptable  \n",
       "4            good  "
      ]
     },
     "execution_count": 4,
     "metadata": {},
     "output_type": "execute_result"
    }
   ],
   "source": [
    "train.head()"
   ]
  },
  {
   "cell_type": "code",
   "execution_count": 5,
   "metadata": {},
   "outputs": [
    {
     "data": {
      "text/html": [
       "<div>\n",
       "<style scoped>\n",
       "    .dataframe tbody tr th:only-of-type {\n",
       "        vertical-align: middle;\n",
       "    }\n",
       "\n",
       "    .dataframe tbody tr th {\n",
       "        vertical-align: top;\n",
       "    }\n",
       "\n",
       "    .dataframe thead th {\n",
       "        text-align: right;\n",
       "    }\n",
       "</style>\n",
       "<table border=\"1\" class=\"dataframe\">\n",
       "  <thead>\n",
       "    <tr style=\"text-align: right;\">\n",
       "      <th></th>\n",
       "      <th>ID</th>\n",
       "      <th>Gender</th>\n",
       "      <th>CustomerType</th>\n",
       "      <th>Age</th>\n",
       "      <th>TypeTravel</th>\n",
       "      <th>Travel_Class</th>\n",
       "      <th>Travel_Distance</th>\n",
       "      <th>DepartureDelay_in_Mins</th>\n",
       "      <th>ArrivalDelay_in_Mins</th>\n",
       "      <th>Seat_comfort</th>\n",
       "      <th>Seat_Class</th>\n",
       "      <th>Arrival_time_convenient</th>\n",
       "      <th>Catering</th>\n",
       "      <th>Platform_location</th>\n",
       "      <th>Onboardwifi_service</th>\n",
       "      <th>Onboard_entertainment</th>\n",
       "      <th>Online_support</th>\n",
       "      <th>Onlinebooking_Ease</th>\n",
       "      <th>Onboard_service</th>\n",
       "      <th>Leg_room</th>\n",
       "      <th>Baggage_handling</th>\n",
       "      <th>Checkin_service</th>\n",
       "      <th>Cleanliness</th>\n",
       "      <th>Online_boarding</th>\n",
       "    </tr>\n",
       "  </thead>\n",
       "  <tbody>\n",
       "    <tr>\n",
       "      <th>0</th>\n",
       "      <td>3100001</td>\n",
       "      <td>Female</td>\n",
       "      <td>NaN</td>\n",
       "      <td>36.0</td>\n",
       "      <td>Business travel</td>\n",
       "      <td>Business</td>\n",
       "      <td>532</td>\n",
       "      <td>0.0</td>\n",
       "      <td>0.0</td>\n",
       "      <td>acceptable</td>\n",
       "      <td>Green Car</td>\n",
       "      <td>acceptable</td>\n",
       "      <td>acceptable</td>\n",
       "      <td>manageable</td>\n",
       "      <td>need improvement</td>\n",
       "      <td>excellent</td>\n",
       "      <td>good</td>\n",
       "      <td>excellent</td>\n",
       "      <td>excellent</td>\n",
       "      <td>excellent</td>\n",
       "      <td>excellent</td>\n",
       "      <td>good</td>\n",
       "      <td>excellent</td>\n",
       "      <td>poor</td>\n",
       "    </tr>\n",
       "    <tr>\n",
       "      <th>1</th>\n",
       "      <td>3100002</td>\n",
       "      <td>Female</td>\n",
       "      <td>disloyal Customer</td>\n",
       "      <td>21.0</td>\n",
       "      <td>Business travel</td>\n",
       "      <td>Business</td>\n",
       "      <td>1425</td>\n",
       "      <td>9.0</td>\n",
       "      <td>28.0</td>\n",
       "      <td>extremely poor</td>\n",
       "      <td>Ordinary</td>\n",
       "      <td>good</td>\n",
       "      <td>poor</td>\n",
       "      <td>manageable</td>\n",
       "      <td>acceptable</td>\n",
       "      <td>poor</td>\n",
       "      <td>acceptable</td>\n",
       "      <td>acceptable</td>\n",
       "      <td>excellent</td>\n",
       "      <td>acceptable</td>\n",
       "      <td>good</td>\n",
       "      <td>acceptable</td>\n",
       "      <td>excellent</td>\n",
       "      <td>acceptable</td>\n",
       "    </tr>\n",
       "    <tr>\n",
       "      <th>2</th>\n",
       "      <td>3100003</td>\n",
       "      <td>Male</td>\n",
       "      <td>Loyal Customer</td>\n",
       "      <td>60.0</td>\n",
       "      <td>Business travel</td>\n",
       "      <td>Business</td>\n",
       "      <td>2832</td>\n",
       "      <td>0.0</td>\n",
       "      <td>0.0</td>\n",
       "      <td>excellent</td>\n",
       "      <td>Ordinary</td>\n",
       "      <td>excellent</td>\n",
       "      <td>excellent</td>\n",
       "      <td>very convinient</td>\n",
       "      <td>excellent</td>\n",
       "      <td>excellent</td>\n",
       "      <td>excellent</td>\n",
       "      <td>need improvement</td>\n",
       "      <td>need improvement</td>\n",
       "      <td>need improvement</td>\n",
       "      <td>need improvement</td>\n",
       "      <td>good</td>\n",
       "      <td>need improvement</td>\n",
       "      <td>excellent</td>\n",
       "    </tr>\n",
       "    <tr>\n",
       "      <th>3</th>\n",
       "      <td>3100004</td>\n",
       "      <td>Female</td>\n",
       "      <td>Loyal Customer</td>\n",
       "      <td>29.0</td>\n",
       "      <td>Personal Travel</td>\n",
       "      <td>Eco</td>\n",
       "      <td>1352</td>\n",
       "      <td>0.0</td>\n",
       "      <td>0.0</td>\n",
       "      <td>acceptable</td>\n",
       "      <td>Green Car</td>\n",
       "      <td>excellent</td>\n",
       "      <td>acceptable</td>\n",
       "      <td>very convinient</td>\n",
       "      <td>poor</td>\n",
       "      <td>acceptable</td>\n",
       "      <td>excellent</td>\n",
       "      <td>poor</td>\n",
       "      <td>acceptable</td>\n",
       "      <td>need improvement</td>\n",
       "      <td>excellent</td>\n",
       "      <td>excellent</td>\n",
       "      <td>excellent</td>\n",
       "      <td>poor</td>\n",
       "    </tr>\n",
       "    <tr>\n",
       "      <th>4</th>\n",
       "      <td>3100005</td>\n",
       "      <td>Male</td>\n",
       "      <td>disloyal Customer</td>\n",
       "      <td>18.0</td>\n",
       "      <td>Business travel</td>\n",
       "      <td>Business</td>\n",
       "      <td>1610</td>\n",
       "      <td>17.0</td>\n",
       "      <td>0.0</td>\n",
       "      <td>excellent</td>\n",
       "      <td>Ordinary</td>\n",
       "      <td>extremely poor</td>\n",
       "      <td>excellent</td>\n",
       "      <td>need improvement</td>\n",
       "      <td>excellent</td>\n",
       "      <td>excellent</td>\n",
       "      <td>excellent</td>\n",
       "      <td>excellent</td>\n",
       "      <td>NaN</td>\n",
       "      <td>acceptable</td>\n",
       "      <td>excellent</td>\n",
       "      <td>excellent</td>\n",
       "      <td>excellent</td>\n",
       "      <td>excellent</td>\n",
       "    </tr>\n",
       "  </tbody>\n",
       "</table>\n",
       "</div>"
      ],
      "text/plain": [
       "        ID  Gender       CustomerType   Age       TypeTravel Travel_Class  \\\n",
       "0  3100001  Female                NaN  36.0  Business travel     Business   \n",
       "1  3100002  Female  disloyal Customer  21.0  Business travel     Business   \n",
       "2  3100003    Male     Loyal Customer  60.0  Business travel     Business   \n",
       "3  3100004  Female     Loyal Customer  29.0  Personal Travel          Eco   \n",
       "4  3100005    Male  disloyal Customer  18.0  Business travel     Business   \n",
       "\n",
       "   Travel_Distance  DepartureDelay_in_Mins  ArrivalDelay_in_Mins  \\\n",
       "0              532                     0.0                   0.0   \n",
       "1             1425                     9.0                  28.0   \n",
       "2             2832                     0.0                   0.0   \n",
       "3             1352                     0.0                   0.0   \n",
       "4             1610                    17.0                   0.0   \n",
       "\n",
       "     Seat_comfort Seat_Class Arrival_time_convenient    Catering  \\\n",
       "0      acceptable  Green Car              acceptable  acceptable   \n",
       "1  extremely poor   Ordinary                    good        poor   \n",
       "2       excellent   Ordinary               excellent   excellent   \n",
       "3      acceptable  Green Car               excellent  acceptable   \n",
       "4       excellent   Ordinary          extremely poor   excellent   \n",
       "\n",
       "  Platform_location Onboardwifi_service Onboard_entertainment Online_support  \\\n",
       "0        manageable    need improvement             excellent           good   \n",
       "1        manageable          acceptable                  poor     acceptable   \n",
       "2   very convinient           excellent             excellent      excellent   \n",
       "3   very convinient                poor            acceptable      excellent   \n",
       "4  need improvement           excellent             excellent      excellent   \n",
       "\n",
       "  Onlinebooking_Ease   Onboard_service          Leg_room  Baggage_handling  \\\n",
       "0          excellent         excellent         excellent         excellent   \n",
       "1         acceptable         excellent        acceptable              good   \n",
       "2   need improvement  need improvement  need improvement  need improvement   \n",
       "3               poor        acceptable  need improvement         excellent   \n",
       "4          excellent               NaN        acceptable         excellent   \n",
       "\n",
       "  Checkin_service       Cleanliness Online_boarding  \n",
       "0            good         excellent            poor  \n",
       "1      acceptable         excellent      acceptable  \n",
       "2            good  need improvement       excellent  \n",
       "3       excellent         excellent            poor  \n",
       "4       excellent         excellent       excellent  "
      ]
     },
     "execution_count": 5,
     "metadata": {},
     "output_type": "execute_result"
    }
   ],
   "source": [
    "test.head()"
   ]
  },
  {
   "cell_type": "code",
   "execution_count": 6,
   "metadata": {},
   "outputs": [
    {
     "data": {
      "text/plain": [
       "ID                            0\n",
       "Gender                       77\n",
       "CustomerType               8951\n",
       "Age                          33\n",
       "TypeTravel                 9226\n",
       "Travel_Class                  0\n",
       "Travel_Distance               0\n",
       "DepartureDelay_in_Mins       57\n",
       "ArrivalDelay_in_Mins        357\n",
       "Overall_Experience            0\n",
       "Seat_comfort                 61\n",
       "Seat_Class                    0\n",
       "Arrival_time_convenient    8930\n",
       "Catering                   8741\n",
       "Platform_location            30\n",
       "Onboardwifi_service          30\n",
       "Onboard_entertainment        18\n",
       "Online_support               91\n",
       "Onlinebooking_Ease           73\n",
       "Onboard_service            7601\n",
       "Leg_room                     90\n",
       "Baggage_handling            142\n",
       "Checkin_service              77\n",
       "Cleanliness                   6\n",
       "Online_boarding               6\n",
       "dtype: int64"
      ]
     },
     "execution_count": 6,
     "metadata": {},
     "output_type": "execute_result"
    }
   ],
   "source": [
    "train.isnull().sum()"
   ]
  },
  {
   "cell_type": "code",
   "execution_count": 7,
   "metadata": {},
   "outputs": [
    {
     "name": "stdout",
     "output_type": "stream",
     "text": [
      "(94379, 25)\n",
      "(35602, 24)\n"
     ]
    }
   ],
   "source": [
    "print(train.shape)\n",
    "print(test.shape)"
   ]
  },
  {
   "cell_type": "code",
   "execution_count": 8,
   "metadata": {},
   "outputs": [
    {
     "name": "stdout",
     "output_type": "stream",
     "text": [
      "<class 'pandas.core.frame.DataFrame'>\n",
      "RangeIndex: 94379 entries, 0 to 94378\n",
      "Data columns (total 25 columns):\n",
      " #   Column                   Non-Null Count  Dtype  \n",
      "---  ------                   --------------  -----  \n",
      " 0   ID                       94379 non-null  int64  \n",
      " 1   Gender                   94302 non-null  object \n",
      " 2   CustomerType             85428 non-null  object \n",
      " 3   Age                      94346 non-null  float64\n",
      " 4   TypeTravel               85153 non-null  object \n",
      " 5   Travel_Class             94379 non-null  object \n",
      " 6   Travel_Distance          94379 non-null  int64  \n",
      " 7   DepartureDelay_in_Mins   94322 non-null  float64\n",
      " 8   ArrivalDelay_in_Mins     94022 non-null  float64\n",
      " 9   Overall_Experience       94379 non-null  int64  \n",
      " 10  Seat_comfort             94318 non-null  object \n",
      " 11  Seat_Class               94379 non-null  object \n",
      " 12  Arrival_time_convenient  85449 non-null  object \n",
      " 13  Catering                 85638 non-null  object \n",
      " 14  Platform_location        94349 non-null  object \n",
      " 15  Onboardwifi_service      94349 non-null  object \n",
      " 16  Onboard_entertainment    94361 non-null  object \n",
      " 17  Online_support           94288 non-null  object \n",
      " 18  Onlinebooking_Ease       94306 non-null  object \n",
      " 19  Onboard_service          86778 non-null  object \n",
      " 20  Leg_room                 94289 non-null  object \n",
      " 21  Baggage_handling         94237 non-null  object \n",
      " 22  Checkin_service          94302 non-null  object \n",
      " 23  Cleanliness              94373 non-null  object \n",
      " 24  Online_boarding          94373 non-null  object \n",
      "dtypes: float64(3), int64(3), object(19)\n",
      "memory usage: 18.0+ MB\n"
     ]
    }
   ],
   "source": [
    "train.info()"
   ]
  },
  {
   "cell_type": "code",
   "execution_count": 9,
   "metadata": {},
   "outputs": [
    {
     "data": {
      "text/html": [
       "<div>\n",
       "<style scoped>\n",
       "    .dataframe tbody tr th:only-of-type {\n",
       "        vertical-align: middle;\n",
       "    }\n",
       "\n",
       "    .dataframe tbody tr th {\n",
       "        vertical-align: top;\n",
       "    }\n",
       "\n",
       "    .dataframe thead th {\n",
       "        text-align: right;\n",
       "    }\n",
       "</style>\n",
       "<table border=\"1\" class=\"dataframe\">\n",
       "  <thead>\n",
       "    <tr style=\"text-align: right;\">\n",
       "      <th></th>\n",
       "      <th>Gender</th>\n",
       "      <th>CustomerType</th>\n",
       "      <th>TypeTravel</th>\n",
       "      <th>Travel_Class</th>\n",
       "      <th>Seat_comfort</th>\n",
       "      <th>Seat_Class</th>\n",
       "      <th>Arrival_time_convenient</th>\n",
       "      <th>Catering</th>\n",
       "      <th>Platform_location</th>\n",
       "      <th>Onboardwifi_service</th>\n",
       "      <th>Onboard_entertainment</th>\n",
       "      <th>Online_support</th>\n",
       "      <th>Onlinebooking_Ease</th>\n",
       "      <th>Onboard_service</th>\n",
       "      <th>Leg_room</th>\n",
       "      <th>Baggage_handling</th>\n",
       "      <th>Checkin_service</th>\n",
       "      <th>Cleanliness</th>\n",
       "      <th>Online_boarding</th>\n",
       "    </tr>\n",
       "  </thead>\n",
       "  <tbody>\n",
       "    <tr>\n",
       "      <th>0</th>\n",
       "      <td>Female</td>\n",
       "      <td>Loyal Customer</td>\n",
       "      <td>NaN</td>\n",
       "      <td>Business</td>\n",
       "      <td>need improvement</td>\n",
       "      <td>Green Car</td>\n",
       "      <td>excellent</td>\n",
       "      <td>excellent</td>\n",
       "      <td>very convinient</td>\n",
       "      <td>good</td>\n",
       "      <td>need improvement</td>\n",
       "      <td>acceptable</td>\n",
       "      <td>need improvement</td>\n",
       "      <td>need improvement</td>\n",
       "      <td>acceptable</td>\n",
       "      <td>need improvement</td>\n",
       "      <td>good</td>\n",
       "      <td>need improvement</td>\n",
       "      <td>poor</td>\n",
       "    </tr>\n",
       "    <tr>\n",
       "      <th>1</th>\n",
       "      <td>Male</td>\n",
       "      <td>Loyal Customer</td>\n",
       "      <td>Personal Travel</td>\n",
       "      <td>Eco</td>\n",
       "      <td>poor</td>\n",
       "      <td>Ordinary</td>\n",
       "      <td>excellent</td>\n",
       "      <td>poor</td>\n",
       "      <td>need improvement</td>\n",
       "      <td>good</td>\n",
       "      <td>poor</td>\n",
       "      <td>good</td>\n",
       "      <td>good</td>\n",
       "      <td>excellent</td>\n",
       "      <td>need improvement</td>\n",
       "      <td>poor</td>\n",
       "      <td>need improvement</td>\n",
       "      <td>good</td>\n",
       "      <td>good</td>\n",
       "    </tr>\n",
       "    <tr>\n",
       "      <th>2</th>\n",
       "      <td>Female</td>\n",
       "      <td>Loyal Customer</td>\n",
       "      <td>Business travel</td>\n",
       "      <td>Business</td>\n",
       "      <td>need improvement</td>\n",
       "      <td>Green Car</td>\n",
       "      <td>need improvement</td>\n",
       "      <td>need improvement</td>\n",
       "      <td>need improvement</td>\n",
       "      <td>need improvement</td>\n",
       "      <td>good</td>\n",
       "      <td>excellent</td>\n",
       "      <td>excellent</td>\n",
       "      <td>excellent</td>\n",
       "      <td>excellent</td>\n",
       "      <td>excellent</td>\n",
       "      <td>good</td>\n",
       "      <td>excellent</td>\n",
       "      <td>excellent</td>\n",
       "    </tr>\n",
       "    <tr>\n",
       "      <th>3</th>\n",
       "      <td>Female</td>\n",
       "      <td>Loyal Customer</td>\n",
       "      <td>Business travel</td>\n",
       "      <td>Business</td>\n",
       "      <td>acceptable</td>\n",
       "      <td>Ordinary</td>\n",
       "      <td>need improvement</td>\n",
       "      <td>NaN</td>\n",
       "      <td>need improvement</td>\n",
       "      <td>acceptable</td>\n",
       "      <td>need improvement</td>\n",
       "      <td>acceptable</td>\n",
       "      <td>acceptable</td>\n",
       "      <td>acceptable</td>\n",
       "      <td>acceptable</td>\n",
       "      <td>acceptable</td>\n",
       "      <td>good</td>\n",
       "      <td>acceptable</td>\n",
       "      <td>acceptable</td>\n",
       "    </tr>\n",
       "    <tr>\n",
       "      <th>4</th>\n",
       "      <td>Female</td>\n",
       "      <td>Loyal Customer</td>\n",
       "      <td>Business travel</td>\n",
       "      <td>Business</td>\n",
       "      <td>acceptable</td>\n",
       "      <td>Ordinary</td>\n",
       "      <td>acceptable</td>\n",
       "      <td>acceptable</td>\n",
       "      <td>manageable</td>\n",
       "      <td>need improvement</td>\n",
       "      <td>good</td>\n",
       "      <td>excellent</td>\n",
       "      <td>good</td>\n",
       "      <td>good</td>\n",
       "      <td>good</td>\n",
       "      <td>good</td>\n",
       "      <td>good</td>\n",
       "      <td>good</td>\n",
       "      <td>good</td>\n",
       "    </tr>\n",
       "  </tbody>\n",
       "</table>\n",
       "</div>"
      ],
      "text/plain": [
       "   Gender    CustomerType       TypeTravel Travel_Class      Seat_comfort  \\\n",
       "0  Female  Loyal Customer              NaN     Business  need improvement   \n",
       "1    Male  Loyal Customer  Personal Travel          Eco              poor   \n",
       "2  Female  Loyal Customer  Business travel     Business  need improvement   \n",
       "3  Female  Loyal Customer  Business travel     Business        acceptable   \n",
       "4  Female  Loyal Customer  Business travel     Business        acceptable   \n",
       "\n",
       "  Seat_Class Arrival_time_convenient          Catering Platform_location  \\\n",
       "0  Green Car               excellent         excellent   very convinient   \n",
       "1   Ordinary               excellent              poor  need improvement   \n",
       "2  Green Car        need improvement  need improvement  need improvement   \n",
       "3   Ordinary        need improvement               NaN  need improvement   \n",
       "4   Ordinary              acceptable        acceptable        manageable   \n",
       "\n",
       "  Onboardwifi_service Onboard_entertainment Online_support Onlinebooking_Ease  \\\n",
       "0                good      need improvement     acceptable   need improvement   \n",
       "1                good                  poor           good               good   \n",
       "2    need improvement                  good      excellent          excellent   \n",
       "3          acceptable      need improvement     acceptable         acceptable   \n",
       "4    need improvement                  good      excellent               good   \n",
       "\n",
       "    Onboard_service          Leg_room  Baggage_handling   Checkin_service  \\\n",
       "0  need improvement        acceptable  need improvement              good   \n",
       "1         excellent  need improvement              poor  need improvement   \n",
       "2         excellent         excellent         excellent              good   \n",
       "3        acceptable        acceptable        acceptable              good   \n",
       "4              good              good              good              good   \n",
       "\n",
       "        Cleanliness Online_boarding  \n",
       "0  need improvement            poor  \n",
       "1              good            good  \n",
       "2         excellent       excellent  \n",
       "3        acceptable      acceptable  \n",
       "4              good            good  "
      ]
     },
     "execution_count": 9,
     "metadata": {},
     "output_type": "execute_result"
    }
   ],
   "source": [
    "categorical_data = train.select_dtypes(exclude= np.number)\n",
    "categorical_col = categorical_data.columns\n",
    "categorical_data.head(5)"
   ]
  },
  {
   "cell_type": "code",
   "execution_count": 10,
   "metadata": {
    "scrolled": true
   },
   "outputs": [
    {
     "data": {
      "text/html": [
       "<div>\n",
       "<style scoped>\n",
       "    .dataframe tbody tr th:only-of-type {\n",
       "        vertical-align: middle;\n",
       "    }\n",
       "\n",
       "    .dataframe tbody tr th {\n",
       "        vertical-align: top;\n",
       "    }\n",
       "\n",
       "    .dataframe thead th {\n",
       "        text-align: right;\n",
       "    }\n",
       "</style>\n",
       "<table border=\"1\" class=\"dataframe\">\n",
       "  <thead>\n",
       "    <tr style=\"text-align: right;\">\n",
       "      <th></th>\n",
       "      <th>Gender</th>\n",
       "      <th>CustomerType</th>\n",
       "      <th>TypeTravel</th>\n",
       "      <th>Travel_Class</th>\n",
       "      <th>Seat_comfort</th>\n",
       "      <th>Seat_Class</th>\n",
       "      <th>Arrival_time_convenient</th>\n",
       "      <th>Catering</th>\n",
       "      <th>Platform_location</th>\n",
       "      <th>Onboardwifi_service</th>\n",
       "      <th>Onboard_entertainment</th>\n",
       "      <th>Online_support</th>\n",
       "      <th>Onlinebooking_Ease</th>\n",
       "      <th>Onboard_service</th>\n",
       "      <th>Leg_room</th>\n",
       "      <th>Baggage_handling</th>\n",
       "      <th>Checkin_service</th>\n",
       "      <th>Cleanliness</th>\n",
       "      <th>Online_boarding</th>\n",
       "    </tr>\n",
       "  </thead>\n",
       "  <tbody>\n",
       "    <tr>\n",
       "      <th>0</th>\n",
       "      <td>Female</td>\n",
       "      <td>NaN</td>\n",
       "      <td>Business travel</td>\n",
       "      <td>Business</td>\n",
       "      <td>acceptable</td>\n",
       "      <td>Green Car</td>\n",
       "      <td>acceptable</td>\n",
       "      <td>acceptable</td>\n",
       "      <td>manageable</td>\n",
       "      <td>need improvement</td>\n",
       "      <td>excellent</td>\n",
       "      <td>good</td>\n",
       "      <td>excellent</td>\n",
       "      <td>excellent</td>\n",
       "      <td>excellent</td>\n",
       "      <td>excellent</td>\n",
       "      <td>good</td>\n",
       "      <td>excellent</td>\n",
       "      <td>poor</td>\n",
       "    </tr>\n",
       "    <tr>\n",
       "      <th>1</th>\n",
       "      <td>Female</td>\n",
       "      <td>disloyal Customer</td>\n",
       "      <td>Business travel</td>\n",
       "      <td>Business</td>\n",
       "      <td>extremely poor</td>\n",
       "      <td>Ordinary</td>\n",
       "      <td>good</td>\n",
       "      <td>poor</td>\n",
       "      <td>manageable</td>\n",
       "      <td>acceptable</td>\n",
       "      <td>poor</td>\n",
       "      <td>acceptable</td>\n",
       "      <td>acceptable</td>\n",
       "      <td>excellent</td>\n",
       "      <td>acceptable</td>\n",
       "      <td>good</td>\n",
       "      <td>acceptable</td>\n",
       "      <td>excellent</td>\n",
       "      <td>acceptable</td>\n",
       "    </tr>\n",
       "    <tr>\n",
       "      <th>2</th>\n",
       "      <td>Male</td>\n",
       "      <td>Loyal Customer</td>\n",
       "      <td>Business travel</td>\n",
       "      <td>Business</td>\n",
       "      <td>excellent</td>\n",
       "      <td>Ordinary</td>\n",
       "      <td>excellent</td>\n",
       "      <td>excellent</td>\n",
       "      <td>very convinient</td>\n",
       "      <td>excellent</td>\n",
       "      <td>excellent</td>\n",
       "      <td>excellent</td>\n",
       "      <td>need improvement</td>\n",
       "      <td>need improvement</td>\n",
       "      <td>need improvement</td>\n",
       "      <td>need improvement</td>\n",
       "      <td>good</td>\n",
       "      <td>need improvement</td>\n",
       "      <td>excellent</td>\n",
       "    </tr>\n",
       "    <tr>\n",
       "      <th>3</th>\n",
       "      <td>Female</td>\n",
       "      <td>Loyal Customer</td>\n",
       "      <td>Personal Travel</td>\n",
       "      <td>Eco</td>\n",
       "      <td>acceptable</td>\n",
       "      <td>Green Car</td>\n",
       "      <td>excellent</td>\n",
       "      <td>acceptable</td>\n",
       "      <td>very convinient</td>\n",
       "      <td>poor</td>\n",
       "      <td>acceptable</td>\n",
       "      <td>excellent</td>\n",
       "      <td>poor</td>\n",
       "      <td>acceptable</td>\n",
       "      <td>need improvement</td>\n",
       "      <td>excellent</td>\n",
       "      <td>excellent</td>\n",
       "      <td>excellent</td>\n",
       "      <td>poor</td>\n",
       "    </tr>\n",
       "    <tr>\n",
       "      <th>4</th>\n",
       "      <td>Male</td>\n",
       "      <td>disloyal Customer</td>\n",
       "      <td>Business travel</td>\n",
       "      <td>Business</td>\n",
       "      <td>excellent</td>\n",
       "      <td>Ordinary</td>\n",
       "      <td>extremely poor</td>\n",
       "      <td>excellent</td>\n",
       "      <td>need improvement</td>\n",
       "      <td>excellent</td>\n",
       "      <td>excellent</td>\n",
       "      <td>excellent</td>\n",
       "      <td>excellent</td>\n",
       "      <td>NaN</td>\n",
       "      <td>acceptable</td>\n",
       "      <td>excellent</td>\n",
       "      <td>excellent</td>\n",
       "      <td>excellent</td>\n",
       "      <td>excellent</td>\n",
       "    </tr>\n",
       "  </tbody>\n",
       "</table>\n",
       "</div>"
      ],
      "text/plain": [
       "   Gender       CustomerType       TypeTravel Travel_Class    Seat_comfort  \\\n",
       "0  Female                NaN  Business travel     Business      acceptable   \n",
       "1  Female  disloyal Customer  Business travel     Business  extremely poor   \n",
       "2    Male     Loyal Customer  Business travel     Business       excellent   \n",
       "3  Female     Loyal Customer  Personal Travel          Eco      acceptable   \n",
       "4    Male  disloyal Customer  Business travel     Business       excellent   \n",
       "\n",
       "  Seat_Class Arrival_time_convenient    Catering Platform_location  \\\n",
       "0  Green Car              acceptable  acceptable        manageable   \n",
       "1   Ordinary                    good        poor        manageable   \n",
       "2   Ordinary               excellent   excellent   very convinient   \n",
       "3  Green Car               excellent  acceptable   very convinient   \n",
       "4   Ordinary          extremely poor   excellent  need improvement   \n",
       "\n",
       "  Onboardwifi_service Onboard_entertainment Online_support Onlinebooking_Ease  \\\n",
       "0    need improvement             excellent           good          excellent   \n",
       "1          acceptable                  poor     acceptable         acceptable   \n",
       "2           excellent             excellent      excellent   need improvement   \n",
       "3                poor            acceptable      excellent               poor   \n",
       "4           excellent             excellent      excellent          excellent   \n",
       "\n",
       "    Onboard_service          Leg_room  Baggage_handling Checkin_service  \\\n",
       "0         excellent         excellent         excellent            good   \n",
       "1         excellent        acceptable              good      acceptable   \n",
       "2  need improvement  need improvement  need improvement            good   \n",
       "3        acceptable  need improvement         excellent       excellent   \n",
       "4               NaN        acceptable         excellent       excellent   \n",
       "\n",
       "        Cleanliness Online_boarding  \n",
       "0         excellent            poor  \n",
       "1         excellent      acceptable  \n",
       "2  need improvement       excellent  \n",
       "3         excellent            poor  \n",
       "4         excellent       excellent  "
      ]
     },
     "execution_count": 10,
     "metadata": {},
     "output_type": "execute_result"
    }
   ],
   "source": [
    "categorical_data_test = test.select_dtypes(exclude= np.number)\n",
    "categorical_col = categorical_data.columns\n",
    "categorical_data_test.head(5)"
   ]
  },
  {
   "cell_type": "code",
   "execution_count": 11,
   "metadata": {
    "scrolled": true
   },
   "outputs": [
    {
     "data": {
      "text/html": [
       "<div>\n",
       "<style scoped>\n",
       "    .dataframe tbody tr th:only-of-type {\n",
       "        vertical-align: middle;\n",
       "    }\n",
       "\n",
       "    .dataframe tbody tr th {\n",
       "        vertical-align: top;\n",
       "    }\n",
       "\n",
       "    .dataframe thead th {\n",
       "        text-align: right;\n",
       "    }\n",
       "</style>\n",
       "<table border=\"1\" class=\"dataframe\">\n",
       "  <thead>\n",
       "    <tr style=\"text-align: right;\">\n",
       "      <th></th>\n",
       "      <th>ID</th>\n",
       "      <th>Age</th>\n",
       "      <th>Travel_Distance</th>\n",
       "      <th>DepartureDelay_in_Mins</th>\n",
       "      <th>ArrivalDelay_in_Mins</th>\n",
       "      <th>Overall_Experience</th>\n",
       "    </tr>\n",
       "  </thead>\n",
       "  <tbody>\n",
       "    <tr>\n",
       "      <th>0</th>\n",
       "      <td>2100001</td>\n",
       "      <td>52.0</td>\n",
       "      <td>272</td>\n",
       "      <td>0.0</td>\n",
       "      <td>5.0</td>\n",
       "      <td>0</td>\n",
       "    </tr>\n",
       "    <tr>\n",
       "      <th>1</th>\n",
       "      <td>2100002</td>\n",
       "      <td>48.0</td>\n",
       "      <td>2200</td>\n",
       "      <td>9.0</td>\n",
       "      <td>0.0</td>\n",
       "      <td>0</td>\n",
       "    </tr>\n",
       "    <tr>\n",
       "      <th>2</th>\n",
       "      <td>2100003</td>\n",
       "      <td>43.0</td>\n",
       "      <td>1061</td>\n",
       "      <td>77.0</td>\n",
       "      <td>119.0</td>\n",
       "      <td>1</td>\n",
       "    </tr>\n",
       "    <tr>\n",
       "      <th>3</th>\n",
       "      <td>2100004</td>\n",
       "      <td>44.0</td>\n",
       "      <td>780</td>\n",
       "      <td>13.0</td>\n",
       "      <td>18.0</td>\n",
       "      <td>0</td>\n",
       "    </tr>\n",
       "    <tr>\n",
       "      <th>4</th>\n",
       "      <td>2100005</td>\n",
       "      <td>50.0</td>\n",
       "      <td>1981</td>\n",
       "      <td>0.0</td>\n",
       "      <td>0.0</td>\n",
       "      <td>1</td>\n",
       "    </tr>\n",
       "  </tbody>\n",
       "</table>\n",
       "</div>"
      ],
      "text/plain": [
       "        ID   Age  Travel_Distance  DepartureDelay_in_Mins  \\\n",
       "0  2100001  52.0              272                     0.0   \n",
       "1  2100002  48.0             2200                     9.0   \n",
       "2  2100003  43.0             1061                    77.0   \n",
       "3  2100004  44.0              780                    13.0   \n",
       "4  2100005  50.0             1981                     0.0   \n",
       "\n",
       "   ArrivalDelay_in_Mins  Overall_Experience  \n",
       "0                   5.0                   0  \n",
       "1                   0.0                   0  \n",
       "2                 119.0                   1  \n",
       "3                  18.0                   0  \n",
       "4                   0.0                   1  "
      ]
     },
     "execution_count": 11,
     "metadata": {},
     "output_type": "execute_result"
    }
   ],
   "source": [
    "numeric_data = train.select_dtypes(include = np.number)\n",
    "numeric_col = numeric_data.columns\n",
    "numeric_data.head(5)"
   ]
  },
  {
   "cell_type": "code",
   "execution_count": 12,
   "metadata": {},
   "outputs": [
    {
     "data": {
      "text/plain": [
       "ID                          0\n",
       "Age                        33\n",
       "Travel_Distance             0\n",
       "DepartureDelay_in_Mins     57\n",
       "ArrivalDelay_in_Mins      357\n",
       "Overall_Experience          0\n",
       "dtype: int64"
      ]
     },
     "execution_count": 12,
     "metadata": {},
     "output_type": "execute_result"
    }
   ],
   "source": [
    "numeric_data.isnull().sum()"
   ]
  },
  {
   "cell_type": "code",
   "execution_count": 13,
   "metadata": {
    "scrolled": true
   },
   "outputs": [
    {
     "data": {
      "text/html": [
       "<div>\n",
       "<style scoped>\n",
       "    .dataframe tbody tr th:only-of-type {\n",
       "        vertical-align: middle;\n",
       "    }\n",
       "\n",
       "    .dataframe tbody tr th {\n",
       "        vertical-align: top;\n",
       "    }\n",
       "\n",
       "    .dataframe thead th {\n",
       "        text-align: right;\n",
       "    }\n",
       "</style>\n",
       "<table border=\"1\" class=\"dataframe\">\n",
       "  <thead>\n",
       "    <tr style=\"text-align: right;\">\n",
       "      <th></th>\n",
       "      <th>ID</th>\n",
       "      <th>Age</th>\n",
       "      <th>Travel_Distance</th>\n",
       "      <th>DepartureDelay_in_Mins</th>\n",
       "      <th>ArrivalDelay_in_Mins</th>\n",
       "    </tr>\n",
       "  </thead>\n",
       "  <tbody>\n",
       "    <tr>\n",
       "      <th>0</th>\n",
       "      <td>3100001</td>\n",
       "      <td>36.0</td>\n",
       "      <td>532</td>\n",
       "      <td>0.0</td>\n",
       "      <td>0.0</td>\n",
       "    </tr>\n",
       "    <tr>\n",
       "      <th>1</th>\n",
       "      <td>3100002</td>\n",
       "      <td>21.0</td>\n",
       "      <td>1425</td>\n",
       "      <td>9.0</td>\n",
       "      <td>28.0</td>\n",
       "    </tr>\n",
       "    <tr>\n",
       "      <th>2</th>\n",
       "      <td>3100003</td>\n",
       "      <td>60.0</td>\n",
       "      <td>2832</td>\n",
       "      <td>0.0</td>\n",
       "      <td>0.0</td>\n",
       "    </tr>\n",
       "    <tr>\n",
       "      <th>3</th>\n",
       "      <td>3100004</td>\n",
       "      <td>29.0</td>\n",
       "      <td>1352</td>\n",
       "      <td>0.0</td>\n",
       "      <td>0.0</td>\n",
       "    </tr>\n",
       "    <tr>\n",
       "      <th>4</th>\n",
       "      <td>3100005</td>\n",
       "      <td>18.0</td>\n",
       "      <td>1610</td>\n",
       "      <td>17.0</td>\n",
       "      <td>0.0</td>\n",
       "    </tr>\n",
       "  </tbody>\n",
       "</table>\n",
       "</div>"
      ],
      "text/plain": [
       "        ID   Age  Travel_Distance  DepartureDelay_in_Mins  \\\n",
       "0  3100001  36.0              532                     0.0   \n",
       "1  3100002  21.0             1425                     9.0   \n",
       "2  3100003  60.0             2832                     0.0   \n",
       "3  3100004  29.0             1352                     0.0   \n",
       "4  3100005  18.0             1610                    17.0   \n",
       "\n",
       "   ArrivalDelay_in_Mins  \n",
       "0                   0.0  \n",
       "1                  28.0  \n",
       "2                   0.0  \n",
       "3                   0.0  \n",
       "4                   0.0  "
      ]
     },
     "execution_count": 13,
     "metadata": {},
     "output_type": "execute_result"
    }
   ],
   "source": [
    "numeric_data_test = test.select_dtypes(include = np.number)\n",
    "numeric_col = numeric_data.columns\n",
    "numeric_data_test.head(5)"
   ]
  },
  {
   "cell_type": "code",
   "execution_count": 14,
   "metadata": {},
   "outputs": [
    {
     "data": {
      "text/plain": [
       "ID                          0\n",
       "Age                        11\n",
       "Travel_Distance             0\n",
       "DepartureDelay_in_Mins     29\n",
       "ArrivalDelay_in_Mins      123\n",
       "dtype: int64"
      ]
     },
     "execution_count": 14,
     "metadata": {},
     "output_type": "execute_result"
    }
   ],
   "source": [
    "numeric_data_test.isnull().sum()"
   ]
  },
  {
   "cell_type": "code",
   "execution_count": 15,
   "metadata": {},
   "outputs": [
    {
     "data": {
      "text/html": [
       "<div>\n",
       "<style scoped>\n",
       "    .dataframe tbody tr th:only-of-type {\n",
       "        vertical-align: middle;\n",
       "    }\n",
       "\n",
       "    .dataframe tbody tr th {\n",
       "        vertical-align: top;\n",
       "    }\n",
       "\n",
       "    .dataframe thead th {\n",
       "        text-align: right;\n",
       "    }\n",
       "</style>\n",
       "<table border=\"1\" class=\"dataframe\">\n",
       "  <thead>\n",
       "    <tr style=\"text-align: right;\">\n",
       "      <th></th>\n",
       "      <th>ID</th>\n",
       "      <th>Age</th>\n",
       "      <th>Travel_Distance</th>\n",
       "      <th>DepartureDelay_in_Mins</th>\n",
       "      <th>ArrivalDelay_in_Mins</th>\n",
       "      <th>Overall_Experience</th>\n",
       "    </tr>\n",
       "  </thead>\n",
       "  <tbody>\n",
       "    <tr>\n",
       "      <th>count</th>\n",
       "      <td>9.437900e+04</td>\n",
       "      <td>94346.000000</td>\n",
       "      <td>94379.000000</td>\n",
       "      <td>94322.000000</td>\n",
       "      <td>94022.000000</td>\n",
       "      <td>94379.000000</td>\n",
       "    </tr>\n",
       "    <tr>\n",
       "      <th>mean</th>\n",
       "      <td>2.147190e+06</td>\n",
       "      <td>39.419647</td>\n",
       "      <td>1978.888185</td>\n",
       "      <td>14.647092</td>\n",
       "      <td>15.005222</td>\n",
       "      <td>0.546658</td>\n",
       "    </tr>\n",
       "    <tr>\n",
       "      <th>std</th>\n",
       "      <td>2.724501e+04</td>\n",
       "      <td>15.116632</td>\n",
       "      <td>1027.961019</td>\n",
       "      <td>38.138781</td>\n",
       "      <td>38.439409</td>\n",
       "      <td>0.497821</td>\n",
       "    </tr>\n",
       "    <tr>\n",
       "      <th>min</th>\n",
       "      <td>2.100001e+06</td>\n",
       "      <td>7.000000</td>\n",
       "      <td>50.000000</td>\n",
       "      <td>0.000000</td>\n",
       "      <td>0.000000</td>\n",
       "      <td>0.000000</td>\n",
       "    </tr>\n",
       "    <tr>\n",
       "      <th>25%</th>\n",
       "      <td>2.123596e+06</td>\n",
       "      <td>27.000000</td>\n",
       "      <td>1359.000000</td>\n",
       "      <td>0.000000</td>\n",
       "      <td>0.000000</td>\n",
       "      <td>0.000000</td>\n",
       "    </tr>\n",
       "    <tr>\n",
       "      <th>50%</th>\n",
       "      <td>2.147190e+06</td>\n",
       "      <td>40.000000</td>\n",
       "      <td>1923.000000</td>\n",
       "      <td>0.000000</td>\n",
       "      <td>0.000000</td>\n",
       "      <td>1.000000</td>\n",
       "    </tr>\n",
       "    <tr>\n",
       "      <th>75%</th>\n",
       "      <td>2.170784e+06</td>\n",
       "      <td>51.000000</td>\n",
       "      <td>2538.000000</td>\n",
       "      <td>12.000000</td>\n",
       "      <td>13.000000</td>\n",
       "      <td>1.000000</td>\n",
       "    </tr>\n",
       "    <tr>\n",
       "      <th>max</th>\n",
       "      <td>2.194379e+06</td>\n",
       "      <td>85.000000</td>\n",
       "      <td>6951.000000</td>\n",
       "      <td>1592.000000</td>\n",
       "      <td>1584.000000</td>\n",
       "      <td>1.000000</td>\n",
       "    </tr>\n",
       "  </tbody>\n",
       "</table>\n",
       "</div>"
      ],
      "text/plain": [
       "                 ID           Age  Travel_Distance  DepartureDelay_in_Mins  \\\n",
       "count  9.437900e+04  94346.000000     94379.000000            94322.000000   \n",
       "mean   2.147190e+06     39.419647      1978.888185               14.647092   \n",
       "std    2.724501e+04     15.116632      1027.961019               38.138781   \n",
       "min    2.100001e+06      7.000000        50.000000                0.000000   \n",
       "25%    2.123596e+06     27.000000      1359.000000                0.000000   \n",
       "50%    2.147190e+06     40.000000      1923.000000                0.000000   \n",
       "75%    2.170784e+06     51.000000      2538.000000               12.000000   \n",
       "max    2.194379e+06     85.000000      6951.000000             1592.000000   \n",
       "\n",
       "       ArrivalDelay_in_Mins  Overall_Experience  \n",
       "count          94022.000000        94379.000000  \n",
       "mean              15.005222            0.546658  \n",
       "std               38.439409            0.497821  \n",
       "min                0.000000            0.000000  \n",
       "25%                0.000000            0.000000  \n",
       "50%                0.000000            1.000000  \n",
       "75%               13.000000            1.000000  \n",
       "max             1584.000000            1.000000  "
      ]
     },
     "execution_count": 15,
     "metadata": {},
     "output_type": "execute_result"
    }
   ],
   "source": [
    "train.describe()"
   ]
  },
  {
   "cell_type": "code",
   "execution_count": 16,
   "metadata": {
    "scrolled": true
   },
   "outputs": [
    {
     "data": {
      "text/html": [
       "<div>\n",
       "<style scoped>\n",
       "    .dataframe tbody tr th:only-of-type {\n",
       "        vertical-align: middle;\n",
       "    }\n",
       "\n",
       "    .dataframe tbody tr th {\n",
       "        vertical-align: top;\n",
       "    }\n",
       "\n",
       "    .dataframe thead th {\n",
       "        text-align: right;\n",
       "    }\n",
       "</style>\n",
       "<table border=\"1\" class=\"dataframe\">\n",
       "  <thead>\n",
       "    <tr style=\"text-align: right;\">\n",
       "      <th></th>\n",
       "      <th>ID</th>\n",
       "      <th>Age</th>\n",
       "      <th>Travel_Distance</th>\n",
       "      <th>DepartureDelay_in_Mins</th>\n",
       "      <th>ArrivalDelay_in_Mins</th>\n",
       "    </tr>\n",
       "  </thead>\n",
       "  <tbody>\n",
       "    <tr>\n",
       "      <th>count</th>\n",
       "      <td>3.560200e+04</td>\n",
       "      <td>35591.000000</td>\n",
       "      <td>35602.000000</td>\n",
       "      <td>35573.000000</td>\n",
       "      <td>35479.000000</td>\n",
       "    </tr>\n",
       "    <tr>\n",
       "      <th>mean</th>\n",
       "      <td>3.117802e+06</td>\n",
       "      <td>39.446995</td>\n",
       "      <td>1987.151761</td>\n",
       "      <td>14.880696</td>\n",
       "      <td>15.308802</td>\n",
       "    </tr>\n",
       "    <tr>\n",
       "      <th>std</th>\n",
       "      <td>1.027756e+04</td>\n",
       "      <td>15.137554</td>\n",
       "      <td>1024.308863</td>\n",
       "      <td>37.895453</td>\n",
       "      <td>38.531293</td>\n",
       "    </tr>\n",
       "    <tr>\n",
       "      <th>min</th>\n",
       "      <td>3.100001e+06</td>\n",
       "      <td>7.000000</td>\n",
       "      <td>50.000000</td>\n",
       "      <td>0.000000</td>\n",
       "      <td>0.000000</td>\n",
       "    </tr>\n",
       "    <tr>\n",
       "      <th>25%</th>\n",
       "      <td>3.108901e+06</td>\n",
       "      <td>27.000000</td>\n",
       "      <td>1360.000000</td>\n",
       "      <td>0.000000</td>\n",
       "      <td>0.000000</td>\n",
       "    </tr>\n",
       "    <tr>\n",
       "      <th>50%</th>\n",
       "      <td>3.117802e+06</td>\n",
       "      <td>40.000000</td>\n",
       "      <td>1929.000000</td>\n",
       "      <td>0.000000</td>\n",
       "      <td>0.000000</td>\n",
       "    </tr>\n",
       "    <tr>\n",
       "      <th>75%</th>\n",
       "      <td>3.126702e+06</td>\n",
       "      <td>51.000000</td>\n",
       "      <td>2559.000000</td>\n",
       "      <td>13.000000</td>\n",
       "      <td>13.000000</td>\n",
       "    </tr>\n",
       "    <tr>\n",
       "      <th>max</th>\n",
       "      <td>3.135602e+06</td>\n",
       "      <td>85.000000</td>\n",
       "      <td>6868.000000</td>\n",
       "      <td>978.000000</td>\n",
       "      <td>970.000000</td>\n",
       "    </tr>\n",
       "  </tbody>\n",
       "</table>\n",
       "</div>"
      ],
      "text/plain": [
       "                 ID           Age  Travel_Distance  DepartureDelay_in_Mins  \\\n",
       "count  3.560200e+04  35591.000000     35602.000000            35573.000000   \n",
       "mean   3.117802e+06     39.446995      1987.151761               14.880696   \n",
       "std    1.027756e+04     15.137554      1024.308863               37.895453   \n",
       "min    3.100001e+06      7.000000        50.000000                0.000000   \n",
       "25%    3.108901e+06     27.000000      1360.000000                0.000000   \n",
       "50%    3.117802e+06     40.000000      1929.000000                0.000000   \n",
       "75%    3.126702e+06     51.000000      2559.000000               13.000000   \n",
       "max    3.135602e+06     85.000000      6868.000000              978.000000   \n",
       "\n",
       "       ArrivalDelay_in_Mins  \n",
       "count          35479.000000  \n",
       "mean              15.308802  \n",
       "std               38.531293  \n",
       "min                0.000000  \n",
       "25%                0.000000  \n",
       "50%                0.000000  \n",
       "75%               13.000000  \n",
       "max              970.000000  "
      ]
     },
     "execution_count": 16,
     "metadata": {},
     "output_type": "execute_result"
    }
   ],
   "source": [
    "test.describe()"
   ]
  },
  {
   "cell_type": "code",
   "execution_count": 17,
   "metadata": {
    "scrolled": false
   },
   "outputs": [
    {
     "name": "stdout",
     "output_type": "stream",
     "text": [
      "GENDER :  2\n",
      "Male      46487\n",
      "Female    47815\n",
      "Name: Gender, dtype: int64\n",
      "\n",
      "\n",
      "CUSTOMERTYPE :  2\n",
      "disloyal Customer    15605\n",
      "Loyal Customer       69823\n",
      "Name: CustomerType, dtype: int64\n",
      "\n",
      "\n",
      "TYPETRAVEL :  2\n",
      "Personal Travel    26536\n",
      "Business travel    58617\n",
      "Name: TypeTravel, dtype: int64\n",
      "\n",
      "\n",
      "TRAVEL_CLASS :  2\n",
      "Business    45037\n",
      "Eco         49342\n",
      "Name: Travel_Class, dtype: int64\n",
      "\n",
      "\n",
      "SEAT_COMFORT :  6\n",
      "extremely poor       3463\n",
      "excellent           12971\n",
      "poor                15185\n",
      "good                20595\n",
      "need improvement    20946\n",
      "acceptable          21158\n",
      "Name: Seat_comfort, dtype: int64\n",
      "\n",
      "\n",
      "SEAT_CLASS :  2\n",
      "Ordinary     46944\n",
      "Green Car    47435\n",
      "Name: Seat_Class, dtype: int64\n",
      "\n",
      "\n",
      "ARRIVAL_TIME_CONVENIENT :  6\n",
      "extremely poor       4332\n",
      "poor                13692\n",
      "need improvement    14990\n",
      "acceptable          15177\n",
      "excellent           17684\n",
      "good                19574\n",
      "Name: Arrival_time_convenient, dtype: int64\n",
      "\n",
      "\n",
      "CATERING :  6\n",
      "extremely poor       3910\n",
      "excellent           13455\n",
      "poor                13858\n",
      "good                17969\n",
      "need improvement    17978\n",
      "acceptable          18468\n",
      "Name: Catering, dtype: int64\n",
      "\n",
      "\n",
      "PLATFORM_LOCATION :  6\n",
      "very inconvinient        2\n",
      "very convinient      13981\n",
      "Inconvinient         16449\n",
      "need improvement     17832\n",
      "Convinient           21912\n",
      "manageable           24173\n",
      "Name: Platform_location, dtype: int64\n",
      "\n",
      "\n",
      "ONBOARDWIFI_SERVICE :  6\n",
      "extremely poor         91\n",
      "poor                10741\n",
      "need improvement    19596\n",
      "acceptable          20118\n",
      "excellent           20968\n",
      "good                22835\n",
      "Name: Onboardwifi_service, dtype: int64\n",
      "\n",
      "\n",
      "ONBOARD_ENTERTAINMENT :  6\n",
      "extremely poor       2144\n",
      "poor                 8641\n",
      "need improvement    13926\n",
      "acceptable          17560\n",
      "excellent           21644\n",
      "good                30446\n",
      "Name: Onboard_entertainment, dtype: int64\n",
      "\n",
      "\n",
      "ONLINE_SUPPORT :  6\n",
      "extremely poor          1\n",
      "poor                10167\n",
      "need improvement    12508\n",
      "acceptable          15702\n",
      "excellent           25894\n",
      "good                30016\n",
      "Name: Online_support, dtype: int64\n",
      "\n",
      "\n",
      "ONLINEBOOKING_EASE :  6\n",
      "extremely poor         16\n",
      "poor                 9768\n",
      "need improvement    14479\n",
      "acceptable          16390\n",
      "excellent           24744\n",
      "good                28909\n",
      "Name: Onlinebooking_Ease, dtype: int64\n",
      "\n",
      "\n",
      "ONBOARD_SERVICE :  6\n",
      "extremely poor          4\n",
      "poor                 8776\n",
      "need improvement    11390\n",
      "acceptable          18071\n",
      "excellent           21272\n",
      "good                27265\n",
      "Name: Onboard_service, dtype: int64\n",
      "\n",
      "\n",
      "LEG_ROOM :  6\n",
      "extremely poor        340\n",
      "poor                 8110\n",
      "need improvement    15753\n",
      "acceptable          16384\n",
      "excellent           24832\n",
      "good                28870\n",
      "Name: Leg_room, dtype: int64\n",
      "\n",
      "\n",
      "BAGGAGE_HANDLING :  5\n",
      "poor                 5764\n",
      "need improvement     9759\n",
      "acceptable          17767\n",
      "excellent           26003\n",
      "good                34944\n",
      "Name: Baggage_handling, dtype: int64\n",
      "\n",
      "\n",
      "CHECKIN_SERVICE :  6\n",
      "extremely poor          1\n",
      "poor                11137\n",
      "need improvement    11218\n",
      "excellent           19641\n",
      "acceptable          25803\n",
      "good                26502\n",
      "Name: Checkin_service, dtype: int64\n",
      "\n",
      "\n",
      "CLEANLINESS :  6\n",
      "extremely poor          5\n",
      "poor                 5633\n",
      "need improvement     9806\n",
      "acceptable          17449\n",
      "excellent           26053\n",
      "good                35427\n",
      "Name: Cleanliness, dtype: int64\n",
      "\n",
      "\n",
      "ONLINE_BOARDING :  6\n",
      "extremely poor         12\n",
      "poor                11160\n",
      "need improvement    13451\n",
      "excellent           21742\n",
      "acceptable          22475\n",
      "good                25533\n",
      "Name: Online_boarding, dtype: int64\n",
      "\n",
      "\n"
     ]
    }
   ],
   "source": [
    "for column in train.columns:\n",
    "    if train[column].dtype == 'object':\n",
    "        print(column.upper(),': ',train[column].nunique())\n",
    "        print(train[column].value_counts().sort_values())\n",
    "        print('\\n')"
   ]
  },
  {
   "cell_type": "code",
   "execution_count": 18,
   "metadata": {
    "scrolled": true
   },
   "outputs": [
    {
     "name": "stdout",
     "output_type": "stream",
     "text": [
      "GENDER :  2\n",
      "Male      46487\n",
      "Female    47815\n",
      "Name: Gender, dtype: int64\n",
      "\n",
      "\n",
      "CUSTOMERTYPE :  2\n",
      "disloyal Customer    15605\n",
      "Loyal Customer       69823\n",
      "Name: CustomerType, dtype: int64\n",
      "\n",
      "\n",
      "TYPETRAVEL :  2\n",
      "Personal Travel    26536\n",
      "Business travel    58617\n",
      "Name: TypeTravel, dtype: int64\n",
      "\n",
      "\n",
      "TRAVEL_CLASS :  2\n",
      "Business    45037\n",
      "Eco         49342\n",
      "Name: Travel_Class, dtype: int64\n",
      "\n",
      "\n",
      "SEAT_COMFORT :  6\n",
      "extremely poor       3463\n",
      "excellent           12971\n",
      "poor                15185\n",
      "good                20595\n",
      "need improvement    20946\n",
      "acceptable          21158\n",
      "Name: Seat_comfort, dtype: int64\n",
      "\n",
      "\n",
      "SEAT_CLASS :  2\n",
      "Ordinary     46944\n",
      "Green Car    47435\n",
      "Name: Seat_Class, dtype: int64\n",
      "\n",
      "\n",
      "ARRIVAL_TIME_CONVENIENT :  6\n",
      "extremely poor       4332\n",
      "poor                13692\n",
      "need improvement    14990\n",
      "acceptable          15177\n",
      "excellent           17684\n",
      "good                19574\n",
      "Name: Arrival_time_convenient, dtype: int64\n",
      "\n",
      "\n",
      "CATERING :  6\n",
      "extremely poor       3910\n",
      "excellent           13455\n",
      "poor                13858\n",
      "good                17969\n",
      "need improvement    17978\n",
      "acceptable          18468\n",
      "Name: Catering, dtype: int64\n",
      "\n",
      "\n",
      "PLATFORM_LOCATION :  6\n",
      "very inconvinient        2\n",
      "very convinient      13981\n",
      "Inconvinient         16449\n",
      "need improvement     17832\n",
      "Convinient           21912\n",
      "manageable           24173\n",
      "Name: Platform_location, dtype: int64\n",
      "\n",
      "\n",
      "ONBOARDWIFI_SERVICE :  6\n",
      "extremely poor         91\n",
      "poor                10741\n",
      "need improvement    19596\n",
      "acceptable          20118\n",
      "excellent           20968\n",
      "good                22835\n",
      "Name: Onboardwifi_service, dtype: int64\n",
      "\n",
      "\n",
      "ONBOARD_ENTERTAINMENT :  6\n",
      "extremely poor       2144\n",
      "poor                 8641\n",
      "need improvement    13926\n",
      "acceptable          17560\n",
      "excellent           21644\n",
      "good                30446\n",
      "Name: Onboard_entertainment, dtype: int64\n",
      "\n",
      "\n",
      "ONLINE_SUPPORT :  6\n",
      "extremely poor          1\n",
      "poor                10167\n",
      "need improvement    12508\n",
      "acceptable          15702\n",
      "excellent           25894\n",
      "good                30016\n",
      "Name: Online_support, dtype: int64\n",
      "\n",
      "\n",
      "ONLINEBOOKING_EASE :  6\n",
      "extremely poor         16\n",
      "poor                 9768\n",
      "need improvement    14479\n",
      "acceptable          16390\n",
      "excellent           24744\n",
      "good                28909\n",
      "Name: Onlinebooking_Ease, dtype: int64\n",
      "\n",
      "\n",
      "ONBOARD_SERVICE :  6\n",
      "extremely poor          4\n",
      "poor                 8776\n",
      "need improvement    11390\n",
      "acceptable          18071\n",
      "excellent           21272\n",
      "good                27265\n",
      "Name: Onboard_service, dtype: int64\n",
      "\n",
      "\n",
      "LEG_ROOM :  6\n",
      "extremely poor        340\n",
      "poor                 8110\n",
      "need improvement    15753\n",
      "acceptable          16384\n",
      "excellent           24832\n",
      "good                28870\n",
      "Name: Leg_room, dtype: int64\n",
      "\n",
      "\n",
      "BAGGAGE_HANDLING :  5\n",
      "poor                 5764\n",
      "need improvement     9759\n",
      "acceptable          17767\n",
      "excellent           26003\n",
      "good                34944\n",
      "Name: Baggage_handling, dtype: int64\n",
      "\n",
      "\n",
      "CHECKIN_SERVICE :  6\n",
      "extremely poor          1\n",
      "poor                11137\n",
      "need improvement    11218\n",
      "excellent           19641\n",
      "acceptable          25803\n",
      "good                26502\n",
      "Name: Checkin_service, dtype: int64\n",
      "\n",
      "\n",
      "CLEANLINESS :  6\n",
      "extremely poor          5\n",
      "poor                 5633\n",
      "need improvement     9806\n",
      "acceptable          17449\n",
      "excellent           26053\n",
      "good                35427\n",
      "Name: Cleanliness, dtype: int64\n",
      "\n",
      "\n",
      "ONLINE_BOARDING :  6\n",
      "extremely poor         12\n",
      "poor                11160\n",
      "need improvement    13451\n",
      "excellent           21742\n",
      "acceptable          22475\n",
      "good                25533\n",
      "Name: Online_boarding, dtype: int64\n",
      "\n",
      "\n"
     ]
    }
   ],
   "source": [
    "for column in test.columns:\n",
    "    if train[column].dtype == 'object':\n",
    "        print(column.upper(),': ',train[column].nunique())\n",
    "        print(train[column].value_counts().sort_values())\n",
    "        print('\\n')"
   ]
  },
  {
   "cell_type": "code",
   "execution_count": 19,
   "metadata": {},
   "outputs": [],
   "source": [
    "train.drop(['ID'],axis=1,inplace=True) \n",
    "test.drop(['ID'],axis=1,inplace=True) "
   ]
  },
  {
   "cell_type": "code",
   "execution_count": 20,
   "metadata": {
    "scrolled": true
   },
   "outputs": [
    {
     "data": {
      "text/plain": [
       "27"
      ]
     },
     "execution_count": 20,
     "metadata": {},
     "output_type": "execute_result"
    }
   ],
   "source": [
    "train.duplicated().sum()"
   ]
  },
  {
   "cell_type": "code",
   "execution_count": 21,
   "metadata": {},
   "outputs": [
    {
     "data": {
      "text/plain": [
       "2"
      ]
     },
     "execution_count": 21,
     "metadata": {},
     "output_type": "execute_result"
    }
   ],
   "source": [
    "test.duplicated().sum() "
   ]
  },
  {
   "cell_type": "code",
   "execution_count": 22,
   "metadata": {},
   "outputs": [
    {
     "name": "stdout",
     "output_type": "stream",
     "text": [
      "number of rows in train set before removing duplicates 27\n",
      "number of rows in train set after removing duplicates 0\n"
     ]
    }
   ],
   "source": [
    "print('number of rows in train set before removing duplicates',train.duplicated().sum())\n",
    "train.drop_duplicates(inplace=True)\n",
    "print('number of rows in train set after removing duplicates',train.duplicated().sum())"
   ]
  },
  {
   "cell_type": "code",
   "execution_count": 23,
   "metadata": {},
   "outputs": [
    {
     "name": "stdout",
     "output_type": "stream",
     "text": [
      "Shape before Outliers Treatment (94352, 24)\n"
     ]
    },
    {
     "data": {
      "image/png": "[encoded data removed]",
      "text/plain": [
       "<Figure size 1440x1440 with 5 Axes>"
      ]
     },
     "metadata": {
      "needs_background": "light"
     },
     "output_type": "display_data"
    }
   ],
   "source": [
    "data_plot=train[['Age', 'Travel_Distance', 'DepartureDelay_in_Mins',\n",
    "       'ArrivalDelay_in_Mins', 'Overall_Experience']]\n",
    "fig=plt.figure(figsize=(20,20))\n",
    "for i in range(0,len(data_plot.columns)):\n",
    "    ax=fig.add_subplot(5,2,i+1)\n",
    "    sns.boxplot(data_plot[data_plot.columns[i]])\n",
    "    plt.tight_layout()\n",
    "print('Shape before Outliers Treatment',train.shape)"
   ]
  },
  {
   "cell_type": "code",
   "execution_count": 24,
   "metadata": {
    "scrolled": false
   },
   "outputs": [
    {
     "name": "stdout",
     "output_type": "stream",
     "text": [
      "Shape before Outliers Treatment (35602, 23)\n"
     ]
    },
    {
     "data": {
      "image/png": "[encoded data removed]",
      "text/plain": [
       "<Figure size 1440x1440 with 4 Axes>"
      ]
     },
     "metadata": {
      "needs_background": "light"
     },
     "output_type": "display_data"
    }
   ],
   "source": [
    "data_plot_test=test[['Age', 'Travel_Distance', 'DepartureDelay_in_Mins',\n",
    "       'ArrivalDelay_in_Mins']]\n",
    "fig=plt.figure(figsize=(20,20))\n",
    "for i in range(0,len(data_plot_test.columns)):\n",
    "    ax=fig.add_subplot(5,2,i+1)\n",
    "    sns.boxplot(data_plot_test[data_plot_test.columns[i]])\n",
    "    plt.tight_layout()\n",
    "print('Shape before Outliers Treatment',test.shape)"
   ]
  },
  {
   "cell_type": "code",
   "execution_count": 29,
   "metadata": {},
   "outputs": [],
   "source": [
    "def remove_outlier(col):\n",
    "    sorted(col)\n",
    "    Q1,Q3=np.percentile(col,[25,75])\n",
    "    IQR=Q3-Q1\n",
    "    lower_range = Q1-(1.5* IQR)\n",
    "    upper_range = Q3+(1.5* IQR)\n",
    "    return lower_range,upper_range"
   ]
  },
  {
   "cell_type": "code",
   "execution_count": 30,
   "metadata": {},
   "outputs": [],
   "source": [
    "lrincome,urincome=remove_outlier(train['DepartureDelay_in_Mins'])\n",
    "train['DepartureDelay_in_Mins']=np.where(train['DepartureDelay_in_Mins']>urincome,urincome,train['DepartureDelay_in_Mins'])\n",
    "train['DepartureDelay_in_Mins']=np.where(train['DepartureDelay_in_Mins']<lrincome,lrincome,train['DepartureDelay_in_Mins']) \n",
    "\n",
    "lrincome,urincome=remove_outlier(train['Travel_Distance'])\n",
    "train['Travel_Distance']=np.where(train['Travel_Distance']>urincome,urincome,train['Travel_Distance'])\n",
    "train['Travel_Distance']=np.where(train['Travel_Distance']<lrincome,lrincome,train['Travel_Distance'])\n",
    "\n",
    "lrincome,urincome=remove_outlier(train['ArrivalDelay_in_Mins'])\n",
    "train['ArrivalDelay_in_Mins']=np.where(train['ArrivalDelay_in_Mins']>urincome,urincome,train['ArrivalDelay_in_Mins'])\n",
    "train['ArrivalDelay_in_Mins']=np.where(train['ArrivalDelay_in_Mins']<lrincome,lrincome,train['ArrivalDelay_in_Mins'])\n",
    "\n",
    "lrincome,urincome=remove_outlier(test['DepartureDelay_in_Mins'])\n",
    "test['DepartureDelay_in_Mins']=np.where(test['DepartureDelay_in_Mins']>urincome,urincome,test['DepartureDelay_in_Mins'])\n",
    "test['DepartureDelay_in_Mins']=np.where(test['DepartureDelay_in_Mins']<lrincome,lrincome,test['DepartureDelay_in_Mins']) \n",
    "\n",
    "lrincome,urincome=remove_outlier(test['Travel_Distance'])\n",
    "test['Travel_Distance']=np.where(test['Travel_Distance']>urincome,urincome,test['Travel_Distance'])\n",
    "test['Travel_Distance']=np.where(test['Travel_Distance']<lrincome,lrincome,test['Travel_Distance'])\n",
    "\n",
    "lrincome,urincome=remove_outlier(test['ArrivalDelay_in_Mins'])\n",
    "test['ArrivalDelay_in_Mins']=np.where(test['ArrivalDelay_in_Mins']>urincome,urincome,test['ArrivalDelay_in_Mins'])\n",
    "test['ArrivalDelay_in_Mins']=np.where(test['ArrivalDelay_in_Mins']<lrincome,lrincome,test['ArrivalDelay_in_Mins'])"
   ]
  },
  {
   "cell_type": "code",
   "execution_count": 33,
   "metadata": {},
   "outputs": [
    {
     "name": "stdout",
     "output_type": "stream",
     "text": [
      "Shape after Outliers Treatment (94352, 24)\n"
     ]
    },
    {
     "data": {
      "image/png": "[encoded data removed]",
      "text/plain": [
       "<Figure size 1440x1440 with 4 Axes>"
      ]
     },
     "metadata": {
      "needs_background": "light"
     },
     "output_type": "display_data"
    }
   ],
   "source": [
    "data_plot=train[['Age', 'Travel_Distance', 'DepartureDelay_in_Mins',\n",
    "       'ArrivalDelay_in_Mins']]\n",
    "fig=plt.figure(figsize=(20,20))\n",
    "for i in range(0,len(data_plot.columns)):\n",
    "    ax=fig.add_subplot(5,2,i+1)\n",
    "    sns.boxplot(data_plot[data_plot.columns[i]])\n",
    "    plt.tight_layout()\n",
    "print('Shape after Outliers Treatment',train.shape)"
   ]
  },
  {
   "cell_type": "code",
   "execution_count": 34,
   "metadata": {
    "scrolled": false
   },
   "outputs": [
    {
     "name": "stdout",
     "output_type": "stream",
     "text": [
      "Shape after Outliers Treatment (35602, 23)\n"
     ]
    },
    {
     "data": {
      "image/png": "[encoded data removed]",
      "text/plain": [
       "<Figure size 1440x1440 with 4 Axes>"
      ]
     },
     "metadata": {
      "needs_background": "light"
     },
     "output_type": "display_data"
    }
   ],
   "source": [
    "data_plot_test=test[['Age', 'Travel_Distance', 'DepartureDelay_in_Mins',\n",
    "       'ArrivalDelay_in_Mins']]\n",
    "fig=plt.figure(figsize=(20,20))\n",
    "for i in range(0,len(data_plot_test.columns)):\n",
    "    ax=fig.add_subplot(5,2,i+1)\n",
    "    sns.boxplot(data_plot_test[data_plot_test.columns[i]])\n",
    "    plt.tight_layout()\n",
    "print('Shape after Outliers Treatment',test.shape)"
   ]
  },
  {
   "cell_type": "code",
   "execution_count": 39,
   "metadata": {},
   "outputs": [
    {
     "name": "stdout",
     "output_type": "stream",
     "text": [
      "<class 'pandas.core.frame.DataFrame'>\n",
      "Int64Index: 94352 entries, 0 to 94378\n",
      "Data columns (total 24 columns):\n",
      " #   Column                   Non-Null Count  Dtype  \n",
      "---  ------                   --------------  -----  \n",
      " 0   Gender                   94275 non-null  object \n",
      " 1   CustomerType             85403 non-null  object \n",
      " 2   Age                      94319 non-null  float64\n",
      " 3   TypeTravel               85132 non-null  object \n",
      " 4   Travel_Class             94352 non-null  object \n",
      " 5   Travel_Distance          94352 non-null  float64\n",
      " 6   DepartureDelay_in_Mins   94295 non-null  float64\n",
      " 7   ArrivalDelay_in_Mins     93995 non-null  float64\n",
      " 8   Overall_Experience       94352 non-null  int64  \n",
      " 9   Seat_comfort             94291 non-null  object \n",
      " 10  Seat_Class               94352 non-null  object \n",
      " 11  Arrival_time_convenient  85424 non-null  object \n",
      " 12  Catering                 85612 non-null  object \n",
      " 13  Platform_location        94322 non-null  object \n",
      " 14  Onboardwifi_service      94322 non-null  object \n",
      " 15  Onboard_entertainment    94334 non-null  object \n",
      " 16  Online_support           94261 non-null  object \n",
      " 17  Onlinebooking_Ease       94279 non-null  object \n",
      " 18  Onboard_service          86753 non-null  object \n",
      " 19  Leg_room                 94262 non-null  object \n",
      " 20  Baggage_handling         94210 non-null  object \n",
      " 21  Checkin_service          94275 non-null  object \n",
      " 22  Cleanliness              94346 non-null  object \n",
      " 23  Online_boarding          94346 non-null  object \n",
      "dtypes: float64(4), int64(1), object(19)\n",
      "memory usage: 18.0+ MB\n"
     ]
    }
   ],
   "source": [
    "train.info()"
   ]
  },
  {
   "cell_type": "code",
   "execution_count": 35,
   "metadata": {},
   "outputs": [],
   "source": [
    "objects=train.select_dtypes(include=['object','category']).columns\n",
    "non_objects=train.select_dtypes(exclude=['object','category']).columns"
   ]
  },
  {
   "cell_type": "code",
   "execution_count": 40,
   "metadata": {},
   "outputs": [
    {
     "data": {
      "text/plain": [
       "Index(['Age', 'Travel_Distance', 'DepartureDelay_in_Mins',\n",
       "       'ArrivalDelay_in_Mins', 'Overall_Experience'],\n",
       "      dtype='object')"
      ]
     },
     "execution_count": 40,
     "metadata": {},
     "output_type": "execute_result"
    }
   ],
   "source": [
    "non_objects"
   ]
  },
  {
   "cell_type": "code",
   "execution_count": 41,
   "metadata": {},
   "outputs": [],
   "source": [
    "from sklearn.impute import SimpleImputer\n",
    "imputer = SimpleImputer(missing_values = np.nan, strategy = 'mean',verbose=0)\n",
    "imputer= imputer.fit(train[non_objects].iloc[:,:])"
   ]
  },
  {
   "cell_type": "code",
   "execution_count": 42,
   "metadata": {},
   "outputs": [],
   "source": [
    "train[non_objects]=imputer.transform(train[non_objects])"
   ]
  },
  {
   "cell_type": "code",
   "execution_count": 43,
   "metadata": {},
   "outputs": [
    {
     "data": {
      "text/plain": [
       "Gender                       77\n",
       "CustomerType               8949\n",
       "Age                           0\n",
       "TypeTravel                 9220\n",
       "Travel_Class                  0\n",
       "Travel_Distance               0\n",
       "DepartureDelay_in_Mins        0\n",
       "ArrivalDelay_in_Mins          0\n",
       "Overall_Experience            0\n",
       "Seat_comfort                 61\n",
       "Seat_Class                    0\n",
       "Arrival_time_convenient    8928\n",
       "Catering                   8740\n",
       "Platform_location            30\n",
       "Onboardwifi_service          30\n",
       "Onboard_entertainment        18\n",
       "Online_support               91\n",
       "Onlinebooking_Ease           73\n",
       "Onboard_service            7599\n",
       "Leg_room                     90\n",
       "Baggage_handling            142\n",
       "Checkin_service              77\n",
       "Cleanliness                   6\n",
       "Online_boarding               6\n",
       "dtype: int64"
      ]
     },
     "execution_count": 43,
     "metadata": {},
     "output_type": "execute_result"
    }
   ],
   "source": [
    "train.isnull().sum()"
   ]
  },
  {
   "cell_type": "code",
   "execution_count": null,
   "metadata": {},
   "outputs": [],
   "source": [
    "from sklearn.impute import SimpleImputer\n",
    "imputer = SimpleImputer(missing_values = np.nan, strategy = 'most_frequent',verbose=0)\n",
    "imputer= imputer.fit(train[objects].iloc[:,:])"
   ]
  },
  {
   "cell_type": "code",
   "execution_count": 33,
   "metadata": {},
   "outputs": [],
   "source": [
    "train[objects]=imputer.transform(train[objects])"
   ]
  },
  {
   "cell_type": "code",
   "execution_count": 34,
   "metadata": {},
   "outputs": [
    {
     "data": {
      "text/plain": [
       "Gender                     0\n",
       "CustomerType               0\n",
       "Age                        0\n",
       "TypeTravel                 0\n",
       "Travel_Class               0\n",
       "Travel_Distance            0\n",
       "DepartureDelay_in_Mins     0\n",
       "ArrivalDelay_in_Mins       0\n",
       "Overall_Experience         0\n",
       "Seat_comfort               0\n",
       "Seat_Class                 0\n",
       "Arrival_time_convenient    0\n",
       "Catering                   0\n",
       "Platform_location          0\n",
       "Onboardwifi_service        0\n",
       "Onboard_entertainment      0\n",
       "Online_support             0\n",
       "Onlinebooking_Ease         0\n",
       "Onboard_service            0\n",
       "Leg_room                   0\n",
       "Baggage_handling           0\n",
       "Checkin_service            0\n",
       "Cleanliness                0\n",
       "Online_boarding            0\n",
       "dtype: int64"
      ]
     },
     "execution_count": 34,
     "metadata": {},
     "output_type": "execute_result"
    }
   ],
   "source": [
    "train.isnull().sum()"
   ]
  },
  {
   "cell_type": "code",
   "execution_count": 35,
   "metadata": {},
   "outputs": [
    {
     "data": {
      "text/plain": [
       "Gender                       30\n",
       "CustomerType               3383\n",
       "Age                          11\n",
       "TypeTravel                 3448\n",
       "Travel_Class                  0\n",
       "Travel_Distance               0\n",
       "DepartureDelay_in_Mins       29\n",
       "ArrivalDelay_in_Mins        123\n",
       "Seat_comfort                 22\n",
       "Seat_Class                    0\n",
       "Arrival_time_convenient    3325\n",
       "Catering                   3357\n",
       "Platform_location            12\n",
       "Onboardwifi_service          12\n",
       "Onboard_entertainment         8\n",
       "Online_support               26\n",
       "Onlinebooking_Ease           18\n",
       "Onboard_service            2872\n",
       "Leg_room                     25\n",
       "Baggage_handling             40\n",
       "Checkin_service              22\n",
       "Cleanliness                   2\n",
       "Online_boarding               2\n",
       "dtype: int64"
      ]
     },
     "execution_count": 35,
     "metadata": {},
     "output_type": "execute_result"
    }
   ],
   "source": [
    "test.isnull().sum()"
   ]
  },
  {
   "cell_type": "code",
   "execution_count": 36,
   "metadata": {},
   "outputs": [],
   "source": [
    "objects=test.select_dtypes(include=['object','category']).columns\n",
    "non_objects=test.select_dtypes(exclude=['object','category']).columns"
   ]
  },
  {
   "cell_type": "code",
   "execution_count": 37,
   "metadata": {},
   "outputs": [],
   "source": [
    "from sklearn.impute import SimpleImputer\n",
    "imputer = SimpleImputer(missing_values = np.nan, strategy = 'mean',verbose=0)\n",
    "imputer= imputer.fit(test[non_objects].iloc[:,:])"
   ]
  },
  {
   "cell_type": "code",
   "execution_count": 38,
   "metadata": {},
   "outputs": [],
   "source": [
    "test[non_objects]=imputer.transform(test[non_objects])"
   ]
  },
  {
   "cell_type": "code",
   "execution_count": 39,
   "metadata": {},
   "outputs": [
    {
     "data": {
      "text/plain": [
       "Gender                       30\n",
       "CustomerType               3383\n",
       "Age                           0\n",
       "TypeTravel                 3448\n",
       "Travel_Class                  0\n",
       "Travel_Distance               0\n",
       "DepartureDelay_in_Mins        0\n",
       "ArrivalDelay_in_Mins          0\n",
       "Seat_comfort                 22\n",
       "Seat_Class                    0\n",
       "Arrival_time_convenient    3325\n",
       "Catering                   3357\n",
       "Platform_location            12\n",
       "Onboardwifi_service          12\n",
       "Onboard_entertainment         8\n",
       "Online_support               26\n",
       "Onlinebooking_Ease           18\n",
       "Onboard_service            2872\n",
       "Leg_room                     25\n",
       "Baggage_handling             40\n",
       "Checkin_service              22\n",
       "Cleanliness                   2\n",
       "Online_boarding               2\n",
       "dtype: int64"
      ]
     },
     "execution_count": 39,
     "metadata": {},
     "output_type": "execute_result"
    }
   ],
   "source": [
    "test.isnull().sum() "
   ]
  },
  {
   "cell_type": "code",
   "execution_count": 40,
   "metadata": {},
   "outputs": [],
   "source": [
    "from sklearn.impute import SimpleImputer\n",
    "imputer = SimpleImputer(missing_values = np.nan, strategy = 'most_frequent',verbose=0)\n",
    "imputer= imputer.fit(test[objects].iloc[:,:])"
   ]
  },
  {
   "cell_type": "code",
   "execution_count": 41,
   "metadata": {},
   "outputs": [],
   "source": [
    "test[objects]=imputer.transform(test[objects])"
   ]
  },
  {
   "cell_type": "code",
   "execution_count": 42,
   "metadata": {},
   "outputs": [
    {
     "data": {
      "text/plain": [
       "Gender                     0\n",
       "CustomerType               0\n",
       "Age                        0\n",
       "TypeTravel                 0\n",
       "Travel_Class               0\n",
       "Travel_Distance            0\n",
       "DepartureDelay_in_Mins     0\n",
       "ArrivalDelay_in_Mins       0\n",
       "Seat_comfort               0\n",
       "Seat_Class                 0\n",
       "Arrival_time_convenient    0\n",
       "Catering                   0\n",
       "Platform_location          0\n",
       "Onboardwifi_service        0\n",
       "Onboard_entertainment      0\n",
       "Online_support             0\n",
       "Onlinebooking_Ease         0\n",
       "Onboard_service            0\n",
       "Leg_room                   0\n",
       "Baggage_handling           0\n",
       "Checkin_service            0\n",
       "Cleanliness                0\n",
       "Online_boarding            0\n",
       "dtype: int64"
      ]
     },
     "execution_count": 42,
     "metadata": {},
     "output_type": "execute_result"
    }
   ],
   "source": [
    "test.isnull().sum()"
   ]
  },
  {
   "cell_type": "code",
   "execution_count": 43,
   "metadata": {
    "scrolled": false
   },
   "outputs": [
    {
     "name": "stdout",
     "output_type": "stream",
     "text": [
      "\n",
      "\n",
      "feature: Gender\n",
      "['Female', 'Male']\n",
      "Categories (2, object): ['Female', 'Male']\n",
      "\n",
      "\n",
      "feature: CustomerType\n",
      "['Loyal Customer', 'disloyal Customer']\n",
      "Categories (2, object): ['Loyal Customer', 'disloyal Customer']\n",
      "\n",
      "\n",
      "feature: TypeTravel\n",
      "['Business travel', 'Personal Travel']\n",
      "Categories (2, object): ['Business travel', 'Personal Travel']\n",
      "\n",
      "\n",
      "feature: Travel_Class\n",
      "['Business', 'Eco']\n",
      "Categories (2, object): ['Business', 'Eco']\n",
      "\n",
      "\n",
      "feature: Seat_comfort\n",
      "['need improvement', 'poor', 'acceptable', 'good', 'excellent', 'extremely poor']\n",
      "Categories (6, object): ['acceptable', 'excellent', 'extremely poor', 'good', 'need improvement', 'poor']\n",
      "\n",
      "\n",
      "feature: Seat_Class\n",
      "['Green Car', 'Ordinary']\n",
      "Categories (2, object): ['Green Car', 'Ordinary']\n",
      "\n",
      "\n",
      "feature: Arrival_time_convenient\n",
      "['excellent', 'need improvement', 'acceptable', 'good', 'poor', 'extremely poor']\n",
      "Categories (6, object): ['acceptable', 'excellent', 'extremely poor', 'good', 'need improvement', 'poor']\n",
      "\n",
      "\n",
      "feature: Catering\n",
      "['excellent', 'poor', 'need improvement', 'acceptable', 'good', 'extremely poor']\n",
      "Categories (6, object): ['acceptable', 'excellent', 'extremely poor', 'good', 'need improvement', 'poor']\n",
      "\n",
      "\n",
      "feature: Platform_location\n",
      "['very convinient', 'need improvement', 'manageable', 'Inconvinient', 'Convinient', 'very inconvinient']\n",
      "Categories (6, object): ['Convinient', 'Inconvinient', 'manageable', 'need improvement', 'very convinient', 'very inconvinient']\n",
      "\n",
      "\n",
      "feature: Onboardwifi_service\n",
      "['good', 'need improvement', 'acceptable', 'excellent', 'poor', 'extremely poor']\n",
      "Categories (6, object): ['acceptable', 'excellent', 'extremely poor', 'good', 'need improvement', 'poor']\n",
      "\n",
      "\n",
      "feature: Onboard_entertainment\n",
      "['need improvement', 'poor', 'good', 'excellent', 'acceptable', 'extremely poor']\n",
      "Categories (6, object): ['acceptable', 'excellent', 'extremely poor', 'good', 'need improvement', 'poor']\n",
      "\n",
      "\n",
      "feature: Online_support\n",
      "['acceptable', 'good', 'excellent', 'poor', 'need improvement', 'extremely poor']\n",
      "Categories (6, object): ['acceptable', 'excellent', 'extremely poor', 'good', 'need improvement', 'poor']\n",
      "\n",
      "\n",
      "feature: Onlinebooking_Ease\n",
      "['need improvement', 'good', 'excellent', 'acceptable', 'poor', 'extremely poor']\n",
      "Categories (6, object): ['acceptable', 'excellent', 'extremely poor', 'good', 'need improvement', 'poor']\n",
      "\n",
      "\n",
      "feature: Onboard_service\n",
      "['need improvement', 'excellent', 'acceptable', 'good', 'poor', 'extremely poor']\n",
      "Categories (6, object): ['acceptable', 'excellent', 'extremely poor', 'good', 'need improvement', 'poor']\n",
      "\n",
      "\n",
      "feature: Leg_room\n",
      "['acceptable', 'need improvement', 'excellent', 'good', 'poor', 'extremely poor']\n",
      "Categories (6, object): ['acceptable', 'excellent', 'extremely poor', 'good', 'need improvement', 'poor']\n",
      "\n",
      "\n",
      "feature: Baggage_handling\n",
      "['need improvement', 'poor', 'excellent', 'acceptable', 'good']\n",
      "Categories (5, object): ['acceptable', 'excellent', 'good', 'need improvement', 'poor']\n",
      "\n",
      "\n",
      "feature: Checkin_service\n",
      "['good', 'need improvement', 'acceptable', 'excellent', 'poor', 'extremely poor']\n",
      "Categories (6, object): ['acceptable', 'excellent', 'extremely poor', 'good', 'need improvement', 'poor']\n",
      "\n",
      "\n",
      "feature: Cleanliness\n",
      "['need improvement', 'good', 'excellent', 'acceptable', 'poor', 'extremely poor']\n",
      "Categories (6, object): ['acceptable', 'excellent', 'extremely poor', 'good', 'need improvement', 'poor']\n",
      "\n",
      "\n",
      "feature: Online_boarding\n",
      "['poor', 'good', 'excellent', 'acceptable', 'need improvement', 'extremely poor']\n",
      "Categories (6, object): ['acceptable', 'excellent', 'extremely poor', 'good', 'need improvement', 'poor']\n"
     ]
    }
   ],
   "source": [
    "for feature in train.columns: \n",
    "    if train[feature].dtype == 'object': \n",
    "        print('\\n')\n",
    "        print('feature:',feature)\n",
    "        print(pd.Categorical(train[feature].unique()))"
   ]
  },
  {
   "cell_type": "code",
   "execution_count": 44,
   "metadata": {},
   "outputs": [
    {
     "name": "stdout",
     "output_type": "stream",
     "text": [
      "\n",
      "\n",
      "feature: Gender\n",
      "['Female', 'Male']\n",
      "Categories (2, object): ['Female', 'Male']\n",
      "\n",
      "\n",
      "feature: CustomerType\n",
      "['Loyal Customer', 'disloyal Customer']\n",
      "Categories (2, object): ['Loyal Customer', 'disloyal Customer']\n",
      "\n",
      "\n",
      "feature: TypeTravel\n",
      "['Business travel', 'Personal Travel']\n",
      "Categories (2, object): ['Business travel', 'Personal Travel']\n",
      "\n",
      "\n",
      "feature: Travel_Class\n",
      "['Business', 'Eco']\n",
      "Categories (2, object): ['Business', 'Eco']\n",
      "\n",
      "\n",
      "feature: Seat_comfort\n",
      "['acceptable', 'extremely poor', 'excellent', 'poor', 'need improvement', 'good']\n",
      "Categories (6, object): ['acceptable', 'excellent', 'extremely poor', 'good', 'need improvement', 'poor']\n",
      "\n",
      "\n",
      "feature: Seat_Class\n",
      "['Green Car', 'Ordinary']\n",
      "Categories (2, object): ['Green Car', 'Ordinary']\n",
      "\n",
      "\n",
      "feature: Arrival_time_convenient\n",
      "['acceptable', 'good', 'excellent', 'extremely poor', 'need improvement', 'poor']\n",
      "Categories (6, object): ['acceptable', 'excellent', 'extremely poor', 'good', 'need improvement', 'poor']\n",
      "\n",
      "\n",
      "feature: Catering\n",
      "['acceptable', 'poor', 'excellent', 'need improvement', 'good', 'extremely poor']\n",
      "Categories (6, object): ['acceptable', 'excellent', 'extremely poor', 'good', 'need improvement', 'poor']\n",
      "\n",
      "\n",
      "feature: Platform_location\n",
      "['manageable', 'very convinient', 'need improvement', 'Inconvinient', 'Convinient']\n",
      "Categories (5, object): ['Convinient', 'Inconvinient', 'manageable', 'need improvement', 'very convinient']\n",
      "\n",
      "\n",
      "feature: Onboardwifi_service\n",
      "['need improvement', 'acceptable', 'excellent', 'poor', 'good', 'extremely poor']\n",
      "Categories (6, object): ['acceptable', 'excellent', 'extremely poor', 'good', 'need improvement', 'poor']\n",
      "\n",
      "\n",
      "feature: Onboard_entertainment\n",
      "['excellent', 'poor', 'acceptable', 'good', 'need improvement', 'extremely poor']\n",
      "Categories (6, object): ['acceptable', 'excellent', 'extremely poor', 'good', 'need improvement', 'poor']\n",
      "\n",
      "\n",
      "feature: Online_support\n",
      "['good', 'acceptable', 'excellent', 'need improvement', 'poor']\n",
      "Categories (5, object): ['acceptable', 'excellent', 'good', 'need improvement', 'poor']\n",
      "\n",
      "\n",
      "feature: Onlinebooking_Ease\n",
      "['excellent', 'acceptable', 'need improvement', 'poor', 'good', 'extremely poor']\n",
      "Categories (6, object): ['acceptable', 'excellent', 'extremely poor', 'good', 'need improvement', 'poor']\n",
      "\n",
      "\n",
      "feature: Onboard_service\n",
      "['excellent', 'need improvement', 'acceptable', 'good', 'poor']\n",
      "Categories (5, object): ['acceptable', 'excellent', 'good', 'need improvement', 'poor']\n",
      "\n",
      "\n",
      "feature: Leg_room\n",
      "['excellent', 'acceptable', 'need improvement', 'good', 'poor', 'extremely poor']\n",
      "Categories (6, object): ['acceptable', 'excellent', 'extremely poor', 'good', 'need improvement', 'poor']\n",
      "\n",
      "\n",
      "feature: Baggage_handling\n",
      "['excellent', 'good', 'need improvement', 'acceptable', 'poor']\n",
      "Categories (5, object): ['acceptable', 'excellent', 'good', 'need improvement', 'poor']\n",
      "\n",
      "\n",
      "feature: Checkin_service\n",
      "['good', 'acceptable', 'excellent', 'need improvement', 'poor']\n",
      "Categories (5, object): ['acceptable', 'excellent', 'good', 'need improvement', 'poor']\n",
      "\n",
      "\n",
      "feature: Cleanliness\n",
      "['excellent', 'need improvement', 'acceptable', 'good', 'poor']\n",
      "Categories (5, object): ['acceptable', 'excellent', 'good', 'need improvement', 'poor']\n",
      "\n",
      "\n",
      "feature: Online_boarding\n",
      "['poor', 'acceptable', 'excellent', 'good', 'need improvement', 'extremely poor']\n",
      "Categories (6, object): ['acceptable', 'excellent', 'extremely poor', 'good', 'need improvement', 'poor']\n"
     ]
    }
   ],
   "source": [
    "for feature in test.columns: \n",
    "    if test[feature].dtype == 'object': \n",
    "        print('\\n')\n",
    "        print('feature:',feature)\n",
    "        print(pd.Categorical(test[feature].unique()))"
   ]
  },
  {
   "cell_type": "code",
   "execution_count": 45,
   "metadata": {},
   "outputs": [],
   "source": [
    "train.Gender.replace(['Female', 'Male'],['0','1'],inplace=True)  \n",
    "train.CustomerType.replace(['Loyal Customer', 'disloyal Customer'],['0','1'],inplace=True)  \n",
    "train.TypeTravel.replace(['Business travel', 'Personal Travel'],['0','1'],inplace=True)  \n",
    "train.Travel_Class.replace(['Business', 'Eco'],['0','1'],inplace=True) \n",
    "train.Seat_comfort.replace(['excellent','good','acceptable','need improvement','poor','extremely poor'],['5','4','3','2','1','0'],inplace=True) \n",
    "train.Seat_Class.replace(['Green Car', 'Ordinary'],['1','0'],inplace=True) \n",
    "train.Arrival_time_convenient.replace(['excellent','good','acceptable','need improvement','poor','extremely poor'],['5','4','3','2','1','0'],inplace=True)  \n",
    "train.Catering.replace(['excellent','good','acceptable','need improvement','poor','extremely poor'],['5','4','3','2','1','0'],inplace=True)  \n",
    "train.Platform_location.replace(['very convinient','Convinient','manageable','need improvement','Inconvinient','very inconvinient'],['5','4','3','2','1','0'],inplace=True)  \n",
    "train.Onboardwifi_service.replace(['excellent','good','acceptable','need improvement','poor','extremely poor'],['5','4','3','2','1','0'],inplace=True)  \n",
    "train.Onboard_entertainment.replace(['excellent','good','acceptable','need improvement','poor','extremely poor'],['5','4','3','2','1','0'],inplace=True)  \n",
    "train.Online_support.replace(['excellent','good','acceptable','need improvement','poor','extremely poor'],['5','4','3','2','1','0'],inplace=True)  \n",
    "train.Onlinebooking_Ease.replace(['excellent','good','acceptable','need improvement','poor','extremely poor'],['5','4','3','2','1','0'],inplace=True)  \n",
    "train.Onboard_service.replace(['excellent','good','acceptable','need improvement','poor','extremely poor'],['5','4','3','2','1','0'],inplace=True)  \n",
    "train.Leg_room.replace(['excellent','good','acceptable','need improvement','poor','extremely poor'],['5','4','3','2','1','0'],inplace=True)  \n",
    "train.Baggage_handling.replace(['excellent','good','acceptable','need improvement','poor','extremely poor'],['5','4','3','2','1','0'],inplace=True)  \n",
    "train.Checkin_service.replace(['excellent','good','acceptable','need improvement','poor','extremely poor'],['5','4','3','2','1','0'],inplace=True)  \n",
    "train.Cleanliness.replace(['excellent','good','acceptable','need improvement','poor','extremely poor'],['5','4','3','2','1','0'],inplace=True)  \n",
    "train.Online_boarding.replace(['excellent','good','acceptable','need improvement','poor','extremely poor'],['5','4','3','2','1','0'],inplace=True)  \n"
   ]
  },
  {
   "cell_type": "code",
   "execution_count": 46,
   "metadata": {},
   "outputs": [],
   "source": [
    "test.Gender.replace(['Female', 'Male'],['0','1'],inplace=True)  \n",
    "test.CustomerType.replace(['Loyal Customer', 'disloyal Customer'],['0','1'],inplace=True)  \n",
    "test.TypeTravel.replace(['Business travel', 'Personal Travel'],['0','1'],inplace=True)  \n",
    "test.Travel_Class.replace(['Business', 'Eco'],['0','1'],inplace=True) \n",
    "test.Seat_comfort.replace(['excellent','good','acceptable','need improvement','poor','extremely poor'],['5','4','3','2','1','0'],inplace=True) \n",
    "test.Seat_Class.replace(['Green Car', 'Ordinary'],['1','0'],inplace=True) \n",
    "test.Arrival_time_convenient.replace(['excellent','good','acceptable','need improvement','poor','extremely poor'],['5','4','3','2','1','0'],inplace=True)  \n",
    "test.Catering.replace(['excellent','good','acceptable','need improvement','poor','extremely poor'],['5','4','3','2','1','0'],inplace=True)  \n",
    "test.Platform_location.replace(['very convinient','Convinient','manageable','need improvement','Inconvinient','very inconvinient'],['5','4','3','2','1','0'],inplace=True)  \n",
    "test.Onboardwifi_service.replace(['excellent','good','acceptable','need improvement','poor','extremely poor'],['5','4','3','2','1','0'],inplace=True)  \n",
    "test.Onboard_entertainment.replace(['excellent','good','acceptable','need improvement','poor','extremely poor'],['5','4','3','2','1','0'],inplace=True)  \n",
    "test.Online_support.replace(['excellent','good','acceptable','need improvement','poor','extremely poor'],['5','4','3','2','1','0'],inplace=True)  \n",
    "test.Onlinebooking_Ease.replace(['excellent','good','acceptable','need improvement','poor','extremely poor'],['5','4','3','2','1','0'],inplace=True)  \n",
    "test.Onboard_service.replace(['excellent','good','acceptable','need improvement','poor','extremely poor'],['5','4','3','2','1','0'],inplace=True)  \n",
    "test.Leg_room.replace(['excellent','good','acceptable','need improvement','poor','extremely poor'],['5','4','3','2','1','0'],inplace=True)  \n",
    "test.Baggage_handling.replace(['excellent','good','acceptable','need improvement','poor','extremely poor'],['5','4','3','2','1','0'],inplace=True)  \n",
    "test.Checkin_service.replace(['excellent','good','acceptable','need improvement','poor','extremely poor'],['5','4','3','2','1','0'],inplace=True)  \n",
    "test.Cleanliness.replace(['excellent','good','acceptable','need improvement','poor','extremely poor'],['5','4','3','2','1','0'],inplace=True)  \n",
    "test.Online_boarding.replace(['excellent','good','acceptable','need improvement','poor','extremely poor'],['5','4','3','2','1','0'],inplace=True)  "
   ]
  },
  {
   "cell_type": "code",
   "execution_count": 47,
   "metadata": {},
   "outputs": [
    {
     "name": "stdout",
     "output_type": "stream",
     "text": [
      "number of duplicates in train are 1\n"
     ]
    }
   ],
   "source": [
    "print('number of duplicates in train are',train.duplicated().sum()) \n",
    "train.drop_duplicates(inplace=True) "
   ]
  },
  {
   "cell_type": "code",
   "execution_count": 48,
   "metadata": {
    "scrolled": true
   },
   "outputs": [
    {
     "data": {
      "text/plain": [
       "0"
      ]
     },
     "execution_count": 48,
     "metadata": {},
     "output_type": "execute_result"
    }
   ],
   "source": [
    "train.duplicated().sum()"
   ]
  },
  {
   "cell_type": "code",
   "execution_count": 49,
   "metadata": {},
   "outputs": [
    {
     "data": {
      "text/html": [
       "<div>\n",
       "<style scoped>\n",
       "    .dataframe tbody tr th:only-of-type {\n",
       "        vertical-align: middle;\n",
       "    }\n",
       "\n",
       "    .dataframe tbody tr th {\n",
       "        vertical-align: top;\n",
       "    }\n",
       "\n",
       "    .dataframe thead th {\n",
       "        text-align: right;\n",
       "    }\n",
       "</style>\n",
       "<table border=\"1\" class=\"dataframe\">\n",
       "  <thead>\n",
       "    <tr style=\"text-align: right;\">\n",
       "      <th></th>\n",
       "      <th>Gender</th>\n",
       "      <th>CustomerType</th>\n",
       "      <th>Age</th>\n",
       "      <th>TypeTravel</th>\n",
       "      <th>Travel_Class</th>\n",
       "      <th>Travel_Distance</th>\n",
       "      <th>DepartureDelay_in_Mins</th>\n",
       "      <th>ArrivalDelay_in_Mins</th>\n",
       "      <th>Overall_Experience</th>\n",
       "      <th>Seat_comfort</th>\n",
       "      <th>Seat_Class</th>\n",
       "      <th>Arrival_time_convenient</th>\n",
       "      <th>Catering</th>\n",
       "      <th>Platform_location</th>\n",
       "      <th>Onboardwifi_service</th>\n",
       "      <th>Onboard_entertainment</th>\n",
       "      <th>Online_support</th>\n",
       "      <th>Onlinebooking_Ease</th>\n",
       "      <th>Onboard_service</th>\n",
       "      <th>Leg_room</th>\n",
       "      <th>Baggage_handling</th>\n",
       "      <th>Checkin_service</th>\n",
       "      <th>Cleanliness</th>\n",
       "      <th>Online_boarding</th>\n",
       "    </tr>\n",
       "  </thead>\n",
       "  <tbody>\n",
       "    <tr>\n",
       "      <th>0</th>\n",
       "      <td>0</td>\n",
       "      <td>0</td>\n",
       "      <td>52.0</td>\n",
       "      <td>0</td>\n",
       "      <td>0</td>\n",
       "      <td>272.0</td>\n",
       "      <td>0.0</td>\n",
       "      <td>5.0</td>\n",
       "      <td>0.0</td>\n",
       "      <td>2</td>\n",
       "      <td>1</td>\n",
       "      <td>5</td>\n",
       "      <td>5</td>\n",
       "      <td>5</td>\n",
       "      <td>4</td>\n",
       "      <td>2</td>\n",
       "      <td>3</td>\n",
       "      <td>2</td>\n",
       "      <td>2</td>\n",
       "      <td>3</td>\n",
       "      <td>2</td>\n",
       "      <td>4</td>\n",
       "      <td>2</td>\n",
       "      <td>1</td>\n",
       "    </tr>\n",
       "    <tr>\n",
       "      <th>1</th>\n",
       "      <td>1</td>\n",
       "      <td>0</td>\n",
       "      <td>48.0</td>\n",
       "      <td>1</td>\n",
       "      <td>1</td>\n",
       "      <td>2200.0</td>\n",
       "      <td>9.0</td>\n",
       "      <td>0.0</td>\n",
       "      <td>0.0</td>\n",
       "      <td>1</td>\n",
       "      <td>0</td>\n",
       "      <td>5</td>\n",
       "      <td>1</td>\n",
       "      <td>2</td>\n",
       "      <td>4</td>\n",
       "      <td>1</td>\n",
       "      <td>4</td>\n",
       "      <td>4</td>\n",
       "      <td>5</td>\n",
       "      <td>2</td>\n",
       "      <td>1</td>\n",
       "      <td>2</td>\n",
       "      <td>4</td>\n",
       "      <td>4</td>\n",
       "    </tr>\n",
       "    <tr>\n",
       "      <th>2</th>\n",
       "      <td>0</td>\n",
       "      <td>0</td>\n",
       "      <td>43.0</td>\n",
       "      <td>0</td>\n",
       "      <td>0</td>\n",
       "      <td>1061.0</td>\n",
       "      <td>77.0</td>\n",
       "      <td>119.0</td>\n",
       "      <td>1.0</td>\n",
       "      <td>2</td>\n",
       "      <td>1</td>\n",
       "      <td>2</td>\n",
       "      <td>2</td>\n",
       "      <td>2</td>\n",
       "      <td>2</td>\n",
       "      <td>4</td>\n",
       "      <td>5</td>\n",
       "      <td>5</td>\n",
       "      <td>5</td>\n",
       "      <td>5</td>\n",
       "      <td>5</td>\n",
       "      <td>4</td>\n",
       "      <td>5</td>\n",
       "      <td>5</td>\n",
       "    </tr>\n",
       "  </tbody>\n",
       "</table>\n",
       "</div>"
      ],
      "text/plain": [
       "  Gender CustomerType   Age TypeTravel Travel_Class  Travel_Distance  \\\n",
       "0      0            0  52.0          0            0            272.0   \n",
       "1      1            0  48.0          1            1           2200.0   \n",
       "2      0            0  43.0          0            0           1061.0   \n",
       "\n",
       "   DepartureDelay_in_Mins  ArrivalDelay_in_Mins  Overall_Experience  \\\n",
       "0                     0.0                   5.0                 0.0   \n",
       "1                     9.0                   0.0                 0.0   \n",
       "2                    77.0                 119.0                 1.0   \n",
       "\n",
       "  Seat_comfort Seat_Class Arrival_time_convenient Catering Platform_location  \\\n",
       "0            2          1                       5        5                 5   \n",
       "1            1          0                       5        1                 2   \n",
       "2            2          1                       2        2                 2   \n",
       "\n",
       "  Onboardwifi_service Onboard_entertainment Online_support Onlinebooking_Ease  \\\n",
       "0                   4                     2              3                  2   \n",
       "1                   4                     1              4                  4   \n",
       "2                   2                     4              5                  5   \n",
       "\n",
       "  Onboard_service Leg_room Baggage_handling Checkin_service Cleanliness  \\\n",
       "0               2        3                2               4           2   \n",
       "1               5        2                1               2           4   \n",
       "2               5        5                5               4           5   \n",
       "\n",
       "  Online_boarding  \n",
       "0               1  \n",
       "1               4  \n",
       "2               5  "
      ]
     },
     "execution_count": 49,
     "metadata": {},
     "output_type": "execute_result"
    }
   ],
   "source": [
    "train.head(3)"
   ]
  },
  {
   "cell_type": "code",
   "execution_count": 50,
   "metadata": {},
   "outputs": [
    {
     "data": {
      "text/html": [
       "<div>\n",
       "<style scoped>\n",
       "    .dataframe tbody tr th:only-of-type {\n",
       "        vertical-align: middle;\n",
       "    }\n",
       "\n",
       "    .dataframe tbody tr th {\n",
       "        vertical-align: top;\n",
       "    }\n",
       "\n",
       "    .dataframe thead th {\n",
       "        text-align: right;\n",
       "    }\n",
       "</style>\n",
       "<table border=\"1\" class=\"dataframe\">\n",
       "  <thead>\n",
       "    <tr style=\"text-align: right;\">\n",
       "      <th></th>\n",
       "      <th>Gender</th>\n",
       "      <th>CustomerType</th>\n",
       "      <th>Age</th>\n",
       "      <th>TypeTravel</th>\n",
       "      <th>Travel_Class</th>\n",
       "      <th>Travel_Distance</th>\n",
       "      <th>DepartureDelay_in_Mins</th>\n",
       "      <th>ArrivalDelay_in_Mins</th>\n",
       "      <th>Seat_comfort</th>\n",
       "      <th>Seat_Class</th>\n",
       "      <th>Arrival_time_convenient</th>\n",
       "      <th>Catering</th>\n",
       "      <th>Platform_location</th>\n",
       "      <th>Onboardwifi_service</th>\n",
       "      <th>Onboard_entertainment</th>\n",
       "      <th>Online_support</th>\n",
       "      <th>Onlinebooking_Ease</th>\n",
       "      <th>Onboard_service</th>\n",
       "      <th>Leg_room</th>\n",
       "      <th>Baggage_handling</th>\n",
       "      <th>Checkin_service</th>\n",
       "      <th>Cleanliness</th>\n",
       "      <th>Online_boarding</th>\n",
       "    </tr>\n",
       "  </thead>\n",
       "  <tbody>\n",
       "    <tr>\n",
       "      <th>0</th>\n",
       "      <td>0</td>\n",
       "      <td>0</td>\n",
       "      <td>36.0</td>\n",
       "      <td>0</td>\n",
       "      <td>0</td>\n",
       "      <td>532.0</td>\n",
       "      <td>0.0</td>\n",
       "      <td>0.0</td>\n",
       "      <td>3</td>\n",
       "      <td>1</td>\n",
       "      <td>3</td>\n",
       "      <td>3</td>\n",
       "      <td>3</td>\n",
       "      <td>2</td>\n",
       "      <td>5</td>\n",
       "      <td>4</td>\n",
       "      <td>5</td>\n",
       "      <td>5</td>\n",
       "      <td>5</td>\n",
       "      <td>5</td>\n",
       "      <td>4</td>\n",
       "      <td>5</td>\n",
       "      <td>1</td>\n",
       "    </tr>\n",
       "    <tr>\n",
       "      <th>1</th>\n",
       "      <td>0</td>\n",
       "      <td>1</td>\n",
       "      <td>21.0</td>\n",
       "      <td>0</td>\n",
       "      <td>0</td>\n",
       "      <td>1425.0</td>\n",
       "      <td>9.0</td>\n",
       "      <td>28.0</td>\n",
       "      <td>0</td>\n",
       "      <td>0</td>\n",
       "      <td>4</td>\n",
       "      <td>1</td>\n",
       "      <td>3</td>\n",
       "      <td>3</td>\n",
       "      <td>1</td>\n",
       "      <td>3</td>\n",
       "      <td>3</td>\n",
       "      <td>5</td>\n",
       "      <td>3</td>\n",
       "      <td>4</td>\n",
       "      <td>3</td>\n",
       "      <td>5</td>\n",
       "      <td>3</td>\n",
       "    </tr>\n",
       "    <tr>\n",
       "      <th>2</th>\n",
       "      <td>1</td>\n",
       "      <td>0</td>\n",
       "      <td>60.0</td>\n",
       "      <td>0</td>\n",
       "      <td>0</td>\n",
       "      <td>2832.0</td>\n",
       "      <td>0.0</td>\n",
       "      <td>0.0</td>\n",
       "      <td>5</td>\n",
       "      <td>0</td>\n",
       "      <td>5</td>\n",
       "      <td>5</td>\n",
       "      <td>5</td>\n",
       "      <td>5</td>\n",
       "      <td>5</td>\n",
       "      <td>5</td>\n",
       "      <td>2</td>\n",
       "      <td>2</td>\n",
       "      <td>2</td>\n",
       "      <td>2</td>\n",
       "      <td>4</td>\n",
       "      <td>2</td>\n",
       "      <td>5</td>\n",
       "    </tr>\n",
       "  </tbody>\n",
       "</table>\n",
       "</div>"
      ],
      "text/plain": [
       "  Gender CustomerType   Age TypeTravel Travel_Class  Travel_Distance  \\\n",
       "0      0            0  36.0          0            0            532.0   \n",
       "1      0            1  21.0          0            0           1425.0   \n",
       "2      1            0  60.0          0            0           2832.0   \n",
       "\n",
       "   DepartureDelay_in_Mins  ArrivalDelay_in_Mins Seat_comfort Seat_Class  \\\n",
       "0                     0.0                   0.0            3          1   \n",
       "1                     9.0                  28.0            0          0   \n",
       "2                     0.0                   0.0            5          0   \n",
       "\n",
       "  Arrival_time_convenient Catering Platform_location Onboardwifi_service  \\\n",
       "0                       3        3                 3                   2   \n",
       "1                       4        1                 3                   3   \n",
       "2                       5        5                 5                   5   \n",
       "\n",
       "  Onboard_entertainment Online_support Onlinebooking_Ease Onboard_service  \\\n",
       "0                     5              4                  5               5   \n",
       "1                     1              3                  3               5   \n",
       "2                     5              5                  2               2   \n",
       "\n",
       "  Leg_room Baggage_handling Checkin_service Cleanliness Online_boarding  \n",
       "0        5                5               4           5               1  \n",
       "1        3                4               3           5               3  \n",
       "2        2                2               4           2               5  "
      ]
     },
     "execution_count": 50,
     "metadata": {},
     "output_type": "execute_result"
    }
   ],
   "source": [
    "test.head(3)"
   ]
  },
  {
   "cell_type": "code",
   "execution_count": 51,
   "metadata": {
    "scrolled": true
   },
   "outputs": [
    {
     "name": "stdout",
     "output_type": "stream",
     "text": [
      "<class 'pandas.core.frame.DataFrame'>\n",
      "Int64Index: 94351 entries, 0 to 94378\n",
      "Data columns (total 24 columns):\n",
      " #   Column                   Non-Null Count  Dtype  \n",
      "---  ------                   --------------  -----  \n",
      " 0   Gender                   94351 non-null  object \n",
      " 1   CustomerType             94351 non-null  object \n",
      " 2   Age                      94351 non-null  float64\n",
      " 3   TypeTravel               94351 non-null  object \n",
      " 4   Travel_Class             94351 non-null  object \n",
      " 5   Travel_Distance          94351 non-null  float64\n",
      " 6   DepartureDelay_in_Mins   94351 non-null  float64\n",
      " 7   ArrivalDelay_in_Mins     94351 non-null  float64\n",
      " 8   Overall_Experience       94351 non-null  float64\n",
      " 9   Seat_comfort             94351 non-null  object \n",
      " 10  Seat_Class               94351 non-null  object \n",
      " 11  Arrival_time_convenient  94351 non-null  object \n",
      " 12  Catering                 94351 non-null  object \n",
      " 13  Platform_location        94351 non-null  object \n",
      " 14  Onboardwifi_service      94351 non-null  object \n",
      " 15  Onboard_entertainment    94351 non-null  object \n",
      " 16  Online_support           94351 non-null  object \n",
      " 17  Onlinebooking_Ease       94351 non-null  object \n",
      " 18  Onboard_service          94351 non-null  object \n",
      " 19  Leg_room                 94351 non-null  object \n",
      " 20  Baggage_handling         94351 non-null  object \n",
      " 21  Checkin_service          94351 non-null  object \n",
      " 22  Cleanliness              94351 non-null  object \n",
      " 23  Online_boarding          94351 non-null  object \n",
      "dtypes: float64(5), object(19)\n",
      "memory usage: 18.0+ MB\n"
     ]
    }
   ],
   "source": [
    "train.info()"
   ]
  },
  {
   "cell_type": "code",
   "execution_count": 52,
   "metadata": {},
   "outputs": [
    {
     "data": {
      "text/plain": [
       "<AxesSubplot:>"
      ]
     },
     "execution_count": 52,
     "metadata": {},
     "output_type": "execute_result"
    },
    {
     "data": {
      "image/png": "[encoded data removed]",
      "text/plain": [
       "<Figure size 720x576 with 2 Axes>"
      ]
     },
     "metadata": {
      "needs_background": "light"
     },
     "output_type": "display_data"
    }
   ],
   "source": [
    "plt.figure(figsize=(10,8))\n",
    "sns.set(font_scale=1.2)\n",
    "sns.heatmap(train.corr(), annot=True) "
   ]
  },
  {
   "cell_type": "code",
   "execution_count": 53,
   "metadata": {},
   "outputs": [],
   "source": [
    "X = train.drop(['Overall_Experience'], axis=1)\n",
    "y = train[['Overall_Experience']]"
   ]
  },
  {
   "cell_type": "code",
   "execution_count": 54,
   "metadata": {},
   "outputs": [
    {
     "name": "stdout",
     "output_type": "stream",
     "text": [
      "Train_data (94351, 24)\n",
      "Test_Data (35602, 23)\n"
     ]
    }
   ],
   "source": [
    "print('Train_data',train.shape)\n",
    "print('Test_Data',test.shape)"
   ]
  },
  {
   "cell_type": "code",
   "execution_count": 55,
   "metadata": {},
   "outputs": [],
   "source": [
    "import numpy as np\n",
    "import pandas as pd\n",
    "import matplotlib.pyplot as plt\n",
    "import seaborn as sns\n",
    "from sklearn import tree\n",
    "from sklearn.tree import DecisionTreeClassifier\n",
    "from sklearn.ensemble import RandomForestClassifier\n",
    "from sklearn.neural_network import MLPClassifier\n",
    "from sklearn.model_selection import train_test_split\n",
    "from sklearn.metrics import roc_auc_score,roc_curve,classification_report,confusion_matrix\n",
    "from sklearn.preprocessing import StandardScaler\n",
    "from sklearn.model_selection import GridSearchCV"
   ]
  },
  {
   "cell_type": "markdown",
   "metadata": {},
   "source": [
    "## CART"
   ]
  },
  {
   "cell_type": "code",
   "execution_count": 56,
   "metadata": {},
   "outputs": [],
   "source": [
    "param_grid = {\n",
    "    'criterion': ['gini','entropy'],\n",
    "    'max_depth': [20],\n",
    "    'min_samples_leaf': [3], \n",
    "    'min_samples_split': [10],\n",
    "}\n",
    "\n",
    "dtcl = DecisionTreeClassifier(random_state=1)\n",
    "\n",
    "grid_search = GridSearchCV(estimator = dtcl, param_grid = param_grid, cv = 5) "
   ]
  },
  {
   "cell_type": "code",
   "execution_count": 57,
   "metadata": {},
   "outputs": [
    {
     "name": "stdout",
     "output_type": "stream",
     "text": [
      "{'criterion': 'entropy', 'max_depth': 20, 'min_samples_leaf': 3, 'min_samples_split': 10}\n"
     ]
    },
    {
     "data": {
      "text/plain": [
       "DecisionTreeClassifier(criterion='entropy', max_depth=20, min_samples_leaf=3,\n",
       "                       min_samples_split=10, random_state=1)"
      ]
     },
     "execution_count": 57,
     "metadata": {},
     "output_type": "execute_result"
    }
   ],
   "source": [
    "grid_search.fit(X,y)\n",
    "print(grid_search.best_params_)\n",
    "best_grid = grid_search.best_estimator_\n",
    "best_grid"
   ]
  },
  {
   "cell_type": "code",
   "execution_count": 58,
   "metadata": {},
   "outputs": [
    {
     "data": {
      "text/plain": [
       "0.9719133872454981"
      ]
     },
     "execution_count": 58,
     "metadata": {},
     "output_type": "execute_result"
    }
   ],
   "source": [
    "cart_train_acc=best_grid.score(X,y) \n",
    "cart_train_acc"
   ]
  },
  {
   "cell_type": "code",
   "execution_count": 59,
   "metadata": {},
   "outputs": [
    {
     "data": {
      "text/plain": [
       "0.9719133872454981"
      ]
     },
     "execution_count": 59,
     "metadata": {},
     "output_type": "execute_result"
    }
   ],
   "source": [
    "cart_train_acc=best_grid.score(X,y) \n",
    "cart_train_acc"
   ]
  },
  {
   "cell_type": "code",
   "execution_count": 60,
   "metadata": {},
   "outputs": [],
   "source": [
    "train_predict = best_grid.predict(X)\n",
    "test_predict = best_grid.predict(test)"
   ]
  },
  {
   "cell_type": "code",
   "execution_count": 61,
   "metadata": {},
   "outputs": [],
   "source": [
    "test_data['Overall_Experience'] = test_predict "
   ]
  },
  {
   "cell_type": "code",
   "execution_count": 62,
   "metadata": {},
   "outputs": [],
   "source": [
    "Submittion_cart = test_data[['ID','Overall_Experience']]"
   ]
  },
  {
   "cell_type": "code",
   "execution_count": 63,
   "metadata": {},
   "outputs": [],
   "source": [
    "Submittion_cart.to_csv('Sharath_cart.csv',index=False) "
   ]
  },
  {
   "cell_type": "code",
   "execution_count": null,
   "metadata": {},
   "outputs": [],
   "source": []
  },
  {
   "cell_type": "code",
   "execution_count": null,
   "metadata": {},
   "outputs": [],
   "source": []
  },
  {
   "cell_type": "code",
   "execution_count": null,
   "metadata": {},
   "outputs": [],
   "source": []
  },
  {
   "cell_type": "code",
   "execution_count": null,
   "metadata": {},
   "outputs": [],
   "source": []
  },
  {
   "cell_type": "markdown",
   "metadata": {},
   "source": [
    "## RANDOM FOREST"
   ]
  },
  {
   "cell_type": "code",
   "execution_count": 387,
   "metadata": {},
   "outputs": [],
   "source": [
    "param_grid = {\n",
    "    'max_depth': [9],\n",
    "    'max_features': [9],\n",
    "    'min_samples_leaf': [0.000001],\n",
    "    'min_samples_split': [0.000001], \n",
    "    'n_estimators': [6] \n",
    "}\n",
    "\n",
    "rfcl = RandomForestClassifier(random_state=1)\n",
    "\n",
    "grid_search = GridSearchCV(estimator = rfcl, param_grid = param_grid, cv = 3)"
   ]
  },
  {
   "cell_type": "code",
   "execution_count": 388,
   "metadata": {},
   "outputs": [
    {
     "data": {
      "text/plain": [
       "GridSearchCV(cv=3, estimator=RandomForestClassifier(random_state=1),\n",
       "             param_grid={'max_depth': [25], 'max_features': [15],\n",
       "                         'min_samples_leaf': [1e-06],\n",
       "                         'min_samples_split': [1e-06], 'n_estimators': [8]})"
      ]
     },
     "execution_count": 388,
     "metadata": {},
     "output_type": "execute_result"
    }
   ],
   "source": [
    "grid_search.fit(X,y)"
   ]
  },
  {
   "cell_type": "code",
   "execution_count": 389,
   "metadata": {},
   "outputs": [
    {
     "data": {
      "text/plain": [
       "{'max_depth': 25,\n",
       " 'max_features': 15,\n",
       " 'min_samples_leaf': 1e-06,\n",
       " 'min_samples_split': 1e-06,\n",
       " 'n_estimators': 8}"
      ]
     },
     "execution_count": 389,
     "metadata": {},
     "output_type": "execute_result"
    }
   ],
   "source": [
    "grid_search.best_params_"
   ]
  },
  {
   "cell_type": "code",
   "execution_count": 390,
   "metadata": {},
   "outputs": [],
   "source": [
    "best_grid = grid_search.best_estimator_"
   ]
  },
  {
   "cell_type": "code",
   "execution_count": 391,
   "metadata": {
    "scrolled": false
   },
   "outputs": [
    {
     "data": {
      "text/plain": [
       "RandomForestClassifier(max_depth=25, max_features=15, min_samples_leaf=1e-06,\n",
       "                       min_samples_split=1e-06, n_estimators=8, random_state=1)"
      ]
     },
     "execution_count": 391,
     "metadata": {},
     "output_type": "execute_result"
    }
   ],
   "source": [
    "best_grid"
   ]
  },
  {
   "cell_type": "code",
   "execution_count": 392,
   "metadata": {},
   "outputs": [
    {
     "data": {
      "text/plain": [
       "0.9952835688016025"
      ]
     },
     "execution_count": 392,
     "metadata": {},
     "output_type": "execute_result"
    }
   ],
   "source": [
    "rf_train_acc=grid_search.score(X,y) \n",
    "rf_train_acc"
   ]
  },
  {
   "cell_type": "code",
   "execution_count": 213,
   "metadata": {},
   "outputs": [
    {
     "data": {
      "text/plain": [
       "0.998738752106496"
      ]
     },
     "execution_count": 213,
     "metadata": {},
     "output_type": "execute_result"
    }
   ],
   "source": [
    "rf_train_acc=grid_search.score(X,y) \n",
    "rf_train_acc"
   ]
  },
  {
   "cell_type": "code",
   "execution_count": 214,
   "metadata": {},
   "outputs": [
    {
     "data": {
      "text/plain": [
       "0.998738752106496"
      ]
     },
     "execution_count": 214,
     "metadata": {},
     "output_type": "execute_result"
    }
   ],
   "source": [
    "#25 15 2 3 6\n",
    "rf_train_acc=grid_search.score(X,y) \n",
    "rf_train_acc"
   ]
  },
  {
   "cell_type": "code",
   "execution_count": 215,
   "metadata": {},
   "outputs": [
    {
     "name": "stdout",
     "output_type": "stream",
     "text": [
      "                              Imp\n",
      "Onboard_entertainment    0.345027\n",
      "Seat_comfort             0.157820\n",
      "Onlinebooking_Ease       0.077634\n",
      "Online_support           0.040742\n",
      "Travel_Distance          0.032952\n",
      "Age                      0.029697\n",
      "CustomerType             0.027036\n",
      "Leg_room                 0.025345\n",
      "Catering                 0.024202\n",
      "Platform_location        0.022245\n",
      "Online_boarding          0.021203\n",
      "Travel_Class             0.021061\n",
      "Checkin_service          0.020152\n",
      "TypeTravel               0.019936\n",
      "Cleanliness              0.018805\n",
      "Gender                   0.018021\n",
      "Baggage_handling         0.017310\n",
      "Onboardwifi_service      0.017102\n",
      "Arrival_time_convenient  0.016627\n",
      "Onboard_service          0.016560\n",
      "ArrivalDelay_in_Mins     0.014726\n",
      "DepartureDelay_in_Mins   0.012787\n",
      "Seat_Class               0.003009\n"
     ]
    }
   ],
   "source": [
    "print (pd.DataFrame(best_grid.feature_importances_, columns = [\"Imp\"], index = X.columns).sort_values('Imp',ascending=False))"
   ]
  },
  {
   "cell_type": "code",
   "execution_count": 393,
   "metadata": {},
   "outputs": [],
   "source": [
    "random_test_predict = grid_search.predict(test)"
   ]
  },
  {
   "cell_type": "code",
   "execution_count": 394,
   "metadata": {},
   "outputs": [
    {
     "data": {
      "text/plain": [
       "array([1., 1., 1., ..., 1., 1., 0.])"
      ]
     },
     "execution_count": 394,
     "metadata": {},
     "output_type": "execute_result"
    }
   ],
   "source": [
    "random_test_predict"
   ]
  },
  {
   "cell_type": "code",
   "execution_count": 395,
   "metadata": {},
   "outputs": [],
   "source": [
    "test_data['Overall_Experience'] = random_test_predict "
   ]
  },
  {
   "cell_type": "code",
   "execution_count": 396,
   "metadata": {},
   "outputs": [],
   "source": [
    "Submittion_random = test_data[['ID','Overall_Experience']]"
   ]
  },
  {
   "cell_type": "code",
   "execution_count": 397,
   "metadata": {},
   "outputs": [],
   "source": [
    "Submittion_random.to_csv('Sharath_RF.csv',index=False) "
   ]
  },
  {
   "cell_type": "markdown",
   "metadata": {},
   "source": [
    "## Bagging"
   ]
  },
  {
   "cell_type": "code",
   "execution_count": 398,
   "metadata": {},
   "outputs": [
    {
     "data": {
      "text/plain": [
       "BaggingClassifier(base_estimator=RandomForestClassifier(max_depth=25,\n",
       "                                                        max_features=15,\n",
       "                                                        min_samples_leaf=1e-06,\n",
       "                                                        min_samples_split=1e-06,\n",
       "                                                        n_estimators=8,\n",
       "                                                        random_state=1),\n",
       "                  n_estimators=3, random_state=1)"
      ]
     },
     "execution_count": 398,
     "metadata": {},
     "output_type": "execute_result"
    }
   ],
   "source": [
    "from sklearn.ensemble import BaggingClassifier\n",
    "from sklearn.tree import DecisionTreeClassifier\n",
    "Bagging_model=BaggingClassifier(base_estimator=best_grid,n_estimators=3,random_state=1)\n",
    "Bagging_model.fit(X, y)"
   ]
  },
  {
   "cell_type": "code",
   "execution_count": 399,
   "metadata": {},
   "outputs": [
    {
     "name": "stdout",
     "output_type": "stream",
     "text": [
      "0.9860520821188965\n"
     ]
    }
   ],
   "source": [
    "ytrain_predict = Bagging_model.predict(X)\n",
    "model_score = Bagging_model.score(X,y)\n",
    "print(model_score)"
   ]
  },
  {
   "cell_type": "code",
   "execution_count": 400,
   "metadata": {},
   "outputs": [],
   "source": [
    "Bagging_test_predict = Bagging_model.predict(test)"
   ]
  },
  {
   "cell_type": "code",
   "execution_count": 401,
   "metadata": {},
   "outputs": [
    {
     "data": {
      "text/plain": [
       "array([1., 1., 1., ..., 0., 1., 0.])"
      ]
     },
     "execution_count": 401,
     "metadata": {},
     "output_type": "execute_result"
    }
   ],
   "source": [
    "Bagging_test_predict"
   ]
  },
  {
   "cell_type": "code",
   "execution_count": 402,
   "metadata": {},
   "outputs": [],
   "source": [
    "test_data['Overall_Experience'] = Bagging_test_predict "
   ]
  },
  {
   "cell_type": "code",
   "execution_count": 403,
   "metadata": {},
   "outputs": [],
   "source": [
    "Submittion_Bag = test_data[['ID','Overall_Experience']]"
   ]
  },
  {
   "cell_type": "code",
   "execution_count": 380,
   "metadata": {},
   "outputs": [],
   "source": [
    "Submittion_Bag.to_csv('Sharath_BAG.csv',index=False) "
   ]
  },
  {
   "cell_type": "markdown",
   "metadata": {},
   "source": [
    "### GRADIENT"
   ]
  },
  {
   "cell_type": "code",
   "execution_count": 432,
   "metadata": {},
   "outputs": [],
   "source": [
    "param_grid = {\n",
    "    'max_depth': [8],\n",
    "    'max_features': [8],\n",
    "    'min_samples_leaf': [80],\n",
    "    'min_samples_split': [500], \n",
    "    'n_estimators': [500] \n",
    "}\n",
    "\n",
    "#rfcl = RandomForestClassifier(random_state=1)\n",
    "\n",
    "#grid_search = GridSearchCV(estimator = rfcl, param_grid = param_grid, cv = 7)"
   ]
  },
  {
   "cell_type": "code",
   "execution_count": 433,
   "metadata": {},
   "outputs": [],
   "source": [
    "from sklearn.ensemble import GradientBoostingClassifier\n",
    "gbcl = GradientBoostingClassifier(learning_rate=0.1,subsample=0.8)\n",
    "grid_search = GridSearchCV(estimator = gbcl, param_grid = param_grid, cv = 3)"
   ]
  },
  {
   "cell_type": "code",
   "execution_count": 434,
   "metadata": {},
   "outputs": [
    {
     "data": {
      "text/plain": [
       "GridSearchCV(cv=3, estimator=GradientBoostingClassifier(subsample=0.8),\n",
       "             param_grid={'max_depth': [8], 'max_features': [8],\n",
       "                         'min_samples_leaf': [80], 'min_samples_split': [500],\n",
       "                         'n_estimators': [500]})"
      ]
     },
     "execution_count": 434,
     "metadata": {},
     "output_type": "execute_result"
    }
   ],
   "source": [
    "grid_search.fit(X, y)"
   ]
  },
  {
   "cell_type": "code",
   "execution_count": 435,
   "metadata": {},
   "outputs": [
    {
     "data": {
      "text/plain": [
       "{'max_depth': 8,\n",
       " 'max_features': 8,\n",
       " 'min_samples_leaf': 80,\n",
       " 'min_samples_split': 500,\n",
       " 'n_estimators': 500}"
      ]
     },
     "execution_count": 435,
     "metadata": {},
     "output_type": "execute_result"
    }
   ],
   "source": [
    "grid_search.best_params_"
   ]
  },
  {
   "cell_type": "code",
   "execution_count": 436,
   "metadata": {},
   "outputs": [],
   "source": [
    "best_grid1 = grid_search.best_estimator_"
   ]
  },
  {
   "cell_type": "code",
   "execution_count": 437,
   "metadata": {},
   "outputs": [
    {
     "data": {
      "text/plain": [
       "GradientBoostingClassifier(max_depth=8, max_features=8, min_samples_leaf=80,\n",
       "                           min_samples_split=500, n_estimators=500,\n",
       "                           subsample=0.8)"
      ]
     },
     "execution_count": 437,
     "metadata": {},
     "output_type": "execute_result"
    }
   ],
   "source": [
    "best_grid1"
   ]
  },
  {
   "cell_type": "code",
   "execution_count": 438,
   "metadata": {},
   "outputs": [
    {
     "data": {
      "text/plain": [
       "0.9863806424945152"
      ]
     },
     "execution_count": 438,
     "metadata": {},
     "output_type": "execute_result"
    }
   ],
   "source": [
    "gbcl_acc=grid_search.score(X,y) \n",
    "gbcl_acc"
   ]
  },
  {
   "cell_type": "code",
   "execution_count": 227,
   "metadata": {},
   "outputs": [
    {
     "data": {
      "text/plain": [
       "0.9948490212080423"
      ]
     },
     "execution_count": 227,
     "metadata": {},
     "output_type": "execute_result"
    }
   ],
   "source": [
    "gbcl_acc=grid_search.score(X,y) \n",
    "gbcl_acc"
   ]
  },
  {
   "cell_type": "code",
   "execution_count": 96,
   "metadata": {
    "scrolled": true
   },
   "outputs": [
    {
     "data": {
      "text/plain": [
       "0.9931956206081547"
      ]
     },
     "execution_count": 96,
     "metadata": {},
     "output_type": "execute_result"
    }
   ],
   "source": [
    "## Highest 9,9,70,500,500 cv 3\n",
    "gbcl_acc=grid_search.score(X,y) \n",
    "gbcl_acc"
   ]
  },
  {
   "cell_type": "code",
   "execution_count": 428,
   "metadata": {},
   "outputs": [],
   "source": [
    "gbcl_test_predict = grid_search.predict(test)"
   ]
  },
  {
   "cell_type": "code",
   "execution_count": 429,
   "metadata": {},
   "outputs": [],
   "source": [
    "test_data['Overall_Experience'] = gbcl_test_predict"
   ]
  },
  {
   "cell_type": "code",
   "execution_count": 430,
   "metadata": {},
   "outputs": [],
   "source": [
    "Submittion_GBCL = test_data[['ID','Overall_Experience']]"
   ]
  },
  {
   "cell_type": "code",
   "execution_count": 431,
   "metadata": {},
   "outputs": [],
   "source": [
    "Submittion_GBCL .to_csv('Sharath_gbcl.csv',index=False) "
   ]
  },
  {
   "cell_type": "code",
   "execution_count": null,
   "metadata": {},
   "outputs": [],
   "source": []
  },
  {
   "cell_type": "code",
   "execution_count": null,
   "metadata": {},
   "outputs": [],
   "source": []
  },
  {
   "cell_type": "markdown",
   "metadata": {},
   "source": [
    "### XGB"
   ]
  },
  {
   "cell_type": "code",
   "execution_count": 192,
   "metadata": {
    "scrolled": true
   },
   "outputs": [],
   "source": [
    "for feature in X.columns: \n",
    "    if X[feature].dtype == 'object': \n",
    "        print('\\n')\n",
    "        print('feature:',feature)\n",
    "        print(pd.Categorical(X[feature].unique()).codes)\n",
    "        X[feature] = pd.Categorical(X[feature]).codes"
   ]
  },
  {
   "cell_type": "code",
   "execution_count": 193,
   "metadata": {},
   "outputs": [],
   "source": [
    "for feature in test.columns: \n",
    "    if test[feature].dtype == 'object': \n",
    "        print('\\n')\n",
    "        print('feature:',feature)\n",
    "        print(pd.Categorical(test[feature].unique()).codes)\n",
    "        test[feature] = pd.Categorical(test[feature]).codes"
   ]
  },
  {
   "cell_type": "code",
   "execution_count": 200,
   "metadata": {},
   "outputs": [],
   "source": [
    "from sklearn import metrics\n",
    "from sklearn.metrics import accuracy_score"
   ]
  },
  {
   "cell_type": "code",
   "execution_count": 201,
   "metadata": {},
   "outputs": [],
   "source": [
    "import xgboost as xgb"
   ]
  },
  {
   "cell_type": "code",
   "execution_count": 202,
   "metadata": {},
   "outputs": [],
   "source": [
    "from xgboost import XGBClassifier"
   ]
  },
  {
   "cell_type": "code",
   "execution_count": 251,
   "metadata": {},
   "outputs": [],
   "source": [
    "param_grid = {\n",
    "    'nthread':[4],\n",
    "    'objective':['binary:logistic'],\n",
    "    'learning_rate': [0.20],\n",
    "    'max_depth': [10], \n",
    "    'n_estimators': [10] \n",
    "}"
   ]
  },
  {
   "cell_type": "code",
   "execution_count": 252,
   "metadata": {},
   "outputs": [],
   "source": [
    "XG = XGBClassifier()\n",
    "grid_search = GridSearchCV(estimator = XG, param_grid = param_grid, cv = 5,)"
   ]
  },
  {
   "cell_type": "code",
   "execution_count": 253,
   "metadata": {},
   "outputs": [
    {
     "name": "stdout",
     "output_type": "stream",
     "text": [
      "[12:23:07] WARNING: C:/Users/Administrator/workspace/xgboost-win64_release_1.3.0/src/learner.cc:1061: Starting in XGBoost 1.3.0, the default evaluation metric used with the objective 'binary:logistic' was changed from 'error' to 'logloss'. Explicitly set eval_metric if you'd like to restore the old behavior.\n",
      "[12:23:08] WARNING: C:/Users/Administrator/workspace/xgboost-win64_release_1.3.0/src/learner.cc:1061: Starting in XGBoost 1.3.0, the default evaluation metric used with the objective 'binary:logistic' was changed from 'error' to 'logloss'. Explicitly set eval_metric if you'd like to restore the old behavior.\n",
      "[12:23:09] WARNING: C:/Users/Administrator/workspace/xgboost-win64_release_1.3.0/src/learner.cc:1061: Starting in XGBoost 1.3.0, the default evaluation metric used with the objective 'binary:logistic' was changed from 'error' to 'logloss'. Explicitly set eval_metric if you'd like to restore the old behavior.\n",
      "[12:23:10] WARNING: C:/Users/Administrator/workspace/xgboost-win64_release_1.3.0/src/learner.cc:1061: Starting in XGBoost 1.3.0, the default evaluation metric used with the objective 'binary:logistic' was changed from 'error' to 'logloss'. Explicitly set eval_metric if you'd like to restore the old behavior.\n",
      "[12:23:11] WARNING: C:/Users/Administrator/workspace/xgboost-win64_release_1.3.0/src/learner.cc:1061: Starting in XGBoost 1.3.0, the default evaluation metric used with the objective 'binary:logistic' was changed from 'error' to 'logloss'. Explicitly set eval_metric if you'd like to restore the old behavior.\n",
      "[12:23:12] WARNING: C:/Users/Administrator/workspace/xgboost-win64_release_1.3.0/src/learner.cc:1061: Starting in XGBoost 1.3.0, the default evaluation metric used with the objective 'binary:logistic' was changed from 'error' to 'logloss'. Explicitly set eval_metric if you'd like to restore the old behavior.\n"
     ]
    },
    {
     "data": {
      "text/plain": [
       "GridSearchCV(cv=5,\n",
       "             estimator=XGBClassifier(base_score=None, booster=None,\n",
       "                                     colsample_bylevel=None,\n",
       "                                     colsample_bynode=None,\n",
       "                                     colsample_bytree=None, gamma=None,\n",
       "                                     gpu_id=None, importance_type='gain',\n",
       "                                     interaction_constraints=None,\n",
       "                                     learning_rate=None, max_delta_step=None,\n",
       "                                     max_depth=None, min_child_weight=None,\n",
       "                                     missing=nan, monotone_constraints=None,\n",
       "                                     n_estimators=100, n_jobs=None,\n",
       "                                     num_parallel_tree=None, random_state=None,\n",
       "                                     reg_alpha=None, reg_lambda=None,\n",
       "                                     scale_pos_weight=None, subsample=None,\n",
       "                                     tree_method=None, validate_parameters=None,\n",
       "                                     verbosity=None),\n",
       "             param_grid={'learning_rate': [0.2], 'max_depth': [10],\n",
       "                         'n_estimators': [10], 'nthread': [4],\n",
       "                         'objective': ['binary:logistic']})"
      ]
     },
     "execution_count": 253,
     "metadata": {},
     "output_type": "execute_result"
    }
   ],
   "source": [
    "grid_search.fit(X,y)"
   ]
  },
  {
   "cell_type": "code",
   "execution_count": 254,
   "metadata": {},
   "outputs": [
    {
     "data": {
      "text/plain": [
       "{'learning_rate': 0.2,\n",
       " 'max_depth': 10,\n",
       " 'n_estimators': 10,\n",
       " 'nthread': 4,\n",
       " 'objective': 'binary:logistic'}"
      ]
     },
     "execution_count": 254,
     "metadata": {},
     "output_type": "execute_result"
    }
   ],
   "source": [
    "grid_search.best_params_"
   ]
  },
  {
   "cell_type": "code",
   "execution_count": 255,
   "metadata": {},
   "outputs": [],
   "source": [
    "best_grid = grid_search.best_estimator_"
   ]
  },
  {
   "cell_type": "code",
   "execution_count": 256,
   "metadata": {
    "scrolled": true
   },
   "outputs": [
    {
     "data": {
      "text/plain": [
       "XGBClassifier(base_score=0.5, booster='gbtree', colsample_bylevel=1,\n",
       "              colsample_bynode=1, colsample_bytree=1, gamma=0, gpu_id=-1,\n",
       "              importance_type='gain', interaction_constraints='',\n",
       "              learning_rate=0.2, max_delta_step=0, max_depth=10,\n",
       "              min_child_weight=1, missing=nan, monotone_constraints='()',\n",
       "              n_estimators=10, n_jobs=4, nthread=4, num_parallel_tree=1,\n",
       "              random_state=0, reg_alpha=0, reg_lambda=1, scale_pos_weight=1,\n",
       "              subsample=1, tree_method='exact', validate_parameters=1,\n",
       "              verbosity=None)"
      ]
     },
     "execution_count": 256,
     "metadata": {},
     "output_type": "execute_result"
    }
   ],
   "source": [
    "best_grid"
   ]
  },
  {
   "cell_type": "code",
   "execution_count": 257,
   "metadata": {},
   "outputs": [
    {
     "data": {
      "text/plain": [
       "0.9552204004197093"
      ]
     },
     "execution_count": 257,
     "metadata": {},
     "output_type": "execute_result"
    }
   ],
   "source": [
    "XGB_acc=grid_search.score(X,y) \n",
    "XGB_acc"
   ]
  },
  {
   "cell_type": "code",
   "execution_count": 258,
   "metadata": {},
   "outputs": [],
   "source": [
    "xgb_test_predict = grid_search.predict(test)"
   ]
  },
  {
   "cell_type": "code",
   "execution_count": 259,
   "metadata": {},
   "outputs": [],
   "source": [
    "test_data['Overall_Experience'] = xgb_test_predict"
   ]
  },
  {
   "cell_type": "code",
   "execution_count": 260,
   "metadata": {},
   "outputs": [],
   "source": [
    "Submittion_XGB = test_data[['ID','Overall_Experience']]"
   ]
  },
  {
   "cell_type": "code",
   "execution_count": 261,
   "metadata": {},
   "outputs": [],
   "source": [
    "Submittion_XGB.to_csv('Sharath_XGB.csv',index=False) "
   ]
  },
  {
   "cell_type": "code",
   "execution_count": null,
   "metadata": {},
   "outputs": [],
   "source": []
  },
  {
   "cell_type": "code",
   "execution_count": null,
   "metadata": {},
   "outputs": [],
   "source": []
  },
  {
   "cell_type": "code",
   "execution_count": null,
   "metadata": {},
   "outputs": [],
   "source": []
  },
  {
   "cell_type": "code",
   "execution_count": null,
   "metadata": {},
   "outputs": [],
   "source": []
  },
  {
   "cell_type": "markdown",
   "metadata": {},
   "source": [
    "## Naive "
   ]
  },
  {
   "cell_type": "code",
   "execution_count": 59,
   "metadata": {},
   "outputs": [],
   "source": [
    "from sklearn.naive_bayes import GaussianNB\n",
    "from sklearn import metrics"
   ]
  },
  {
   "cell_type": "code",
   "execution_count": 78,
   "metadata": {},
   "outputs": [
    {
     "data": {
      "text/plain": [
       "GaussianNB()"
      ]
     },
     "execution_count": 78,
     "metadata": {},
     "output_type": "execute_result"
    }
   ],
   "source": [
    "NB_model = GaussianNB()\n",
    "NB_model.fit(X,y)"
   ]
  },
  {
   "cell_type": "code",
   "execution_count": 79,
   "metadata": {},
   "outputs": [
    {
     "name": "stdout",
     "output_type": "stream",
     "text": [
      "0.8160273870971161\n",
      "[[33696  9075]\n",
      " [ 8283 43297]]\n",
      "              precision    recall  f1-score   support\n",
      "\n",
      "         0.0       0.80      0.79      0.80     42771\n",
      "         1.0       0.83      0.84      0.83     51580\n",
      "\n",
      "    accuracy                           0.82     94351\n",
      "   macro avg       0.81      0.81      0.81     94351\n",
      "weighted avg       0.82      0.82      0.82     94351\n",
      "\n"
     ]
    }
   ],
   "source": [
    "y_train_predict = NB_model.predict(X)\n",
    "model_score = NB_model.score(X,y)\n",
    "print(model_score)\n",
    "print(metrics.confusion_matrix(y, y_train_predict))\n",
    "print(metrics.classification_report(y, y_train_predict))"
   ]
  },
  {
   "cell_type": "code",
   "execution_count": 80,
   "metadata": {},
   "outputs": [],
   "source": [
    "naive_test_predict = NB_model.predict(test)"
   ]
  },
  {
   "cell_type": "code",
   "execution_count": 81,
   "metadata": {},
   "outputs": [],
   "source": [
    "test_data['Overall_Experience'] = naive_test_predict"
   ]
  },
  {
   "cell_type": "code",
   "execution_count": 82,
   "metadata": {},
   "outputs": [],
   "source": [
    "Submittion_naive = test_data[['ID','Overall_Experience']]"
   ]
  },
  {
   "cell_type": "code",
   "execution_count": 83,
   "metadata": {},
   "outputs": [],
   "source": [
    "Submittion_naive.to_csv('Sharath_naive.csv',index=False) "
   ]
  },
  {
   "cell_type": "markdown",
   "metadata": {},
   "source": [
    "### LDA"
   ]
  },
  {
   "cell_type": "code",
   "execution_count": 84,
   "metadata": {},
   "outputs": [
    {
     "data": {
      "text/plain": [
       "LinearDiscriminantAnalysis()"
      ]
     },
     "execution_count": 84,
     "metadata": {},
     "output_type": "execute_result"
    }
   ],
   "source": [
    "from sklearn.discriminant_analysis import LinearDiscriminantAnalysis\n",
    "LDA_model = LinearDiscriminantAnalysis()\n",
    "LDA_model.fit(X,y)"
   ]
  },
  {
   "cell_type": "code",
   "execution_count": 85,
   "metadata": {
    "scrolled": true
   },
   "outputs": [
    {
     "name": "stdout",
     "output_type": "stream",
     "text": [
      "0.8328899534716113\n",
      "[[34586  8185]\n",
      " [ 7582 43998]]\n",
      "              precision    recall  f1-score   support\n",
      "\n",
      "         0.0       0.82      0.81      0.81     42771\n",
      "         1.0       0.84      0.85      0.85     51580\n",
      "\n",
      "    accuracy                           0.83     94351\n",
      "   macro avg       0.83      0.83      0.83     94351\n",
      "weighted avg       0.83      0.83      0.83     94351\n",
      "\n"
     ]
    }
   ],
   "source": [
    "y_train_predict = LDA_model.predict(X)\n",
    "model_score = LDA_model.score(X, y)\n",
    "print(model_score)\n",
    "print(metrics.confusion_matrix(y, y_train_predict))\n",
    "print(metrics.classification_report(y, y_train_predict))"
   ]
  },
  {
   "cell_type": "markdown",
   "metadata": {},
   "source": [
    "## ADA Boost"
   ]
  },
  {
   "cell_type": "code",
   "execution_count": 180,
   "metadata": {},
   "outputs": [
    {
     "data": {
      "text/plain": [
       "AdaBoostClassifier(random_state=1)"
      ]
     },
     "execution_count": 180,
     "metadata": {},
     "output_type": "execute_result"
    }
   ],
   "source": [
    "from sklearn.ensemble import AdaBoostClassifier\n",
    "ADB_model = AdaBoostClassifier(algorithm='SAMME.R',random_state=1)\n",
    "ADB_model.fit(X,y)"
   ]
  },
  {
   "cell_type": "code",
   "execution_count": 181,
   "metadata": {},
   "outputs": [
    {
     "name": "stdout",
     "output_type": "stream",
     "text": [
      "0.8960265391993726\n"
     ]
    }
   ],
   "source": [
    "## Performance Matrix on train data set\n",
    "y_train_predict = ADB_model.predict(X)\n",
    "model_score = ADB_model.score(X, y)\n",
    "print(model_score)\n"
   ]
  },
  {
   "cell_type": "code",
   "execution_count": 171,
   "metadata": {},
   "outputs": [],
   "source": [
    "ADA_predict = ADB_model.predict(test)"
   ]
  },
  {
   "cell_type": "code",
   "execution_count": 172,
   "metadata": {},
   "outputs": [],
   "source": [
    "test_data['Overall_Experience'] = ADA_predict"
   ]
  },
  {
   "cell_type": "code",
   "execution_count": 173,
   "metadata": {},
   "outputs": [],
   "source": [
    "Submittion_ADA = test_data[['ID','Overall_Experience']]"
   ]
  },
  {
   "cell_type": "code",
   "execution_count": 174,
   "metadata": {},
   "outputs": [],
   "source": [
    "Submittion_ADA.to_csv('Sharath_ADA.csv',index=False) "
   ]
  },
  {
   "cell_type": "markdown",
   "metadata": {},
   "source": [
    "## MINMAX"
   ]
  },
  {
   "cell_type": "code",
   "execution_count": 60,
   "metadata": {},
   "outputs": [
    {
     "data": {
      "text/plain": [
       "MinMaxScaler()"
      ]
     },
     "execution_count": 60,
     "metadata": {},
     "output_type": "execute_result"
    }
   ],
   "source": [
    "from sklearn.preprocessing import MinMaxScaler\n",
    "minmax_scale = MinMaxScaler()\n",
    "minmax_scale"
   ]
  },
  {
   "cell_type": "code",
   "execution_count": 61,
   "metadata": {},
   "outputs": [],
   "source": [
    "X['Age'] = minmax_scale.fit_transform(X[['Age']]) \n",
    "X['Travel_Distance'] = minmax_scale.fit_transform(X[['Travel_Distance']]) \n",
    "X['DepartureDelay_in_Mins'] = minmax_scale.fit_transform(X[['DepartureDelay_in_Mins']]) \n",
    "X['ArrivalDelay_in_Mins'] = minmax_scale.fit_transform(X[['ArrivalDelay_in_Mins']]) "
   ]
  },
  {
   "cell_type": "code",
   "execution_count": 62,
   "metadata": {},
   "outputs": [
    {
     "data": {
      "text/html": [
       "<div>\n",
       "<style scoped>\n",
       "    .dataframe tbody tr th:only-of-type {\n",
       "        vertical-align: middle;\n",
       "    }\n",
       "\n",
       "    .dataframe tbody tr th {\n",
       "        vertical-align: top;\n",
       "    }\n",
       "\n",
       "    .dataframe thead th {\n",
       "        text-align: right;\n",
       "    }\n",
       "</style>\n",
       "<table border=\"1\" class=\"dataframe\">\n",
       "  <thead>\n",
       "    <tr style=\"text-align: right;\">\n",
       "      <th></th>\n",
       "      <th>Gender</th>\n",
       "      <th>CustomerType</th>\n",
       "      <th>Age</th>\n",
       "      <th>TypeTravel</th>\n",
       "      <th>Travel_Class</th>\n",
       "      <th>Travel_Distance</th>\n",
       "      <th>DepartureDelay_in_Mins</th>\n",
       "      <th>ArrivalDelay_in_Mins</th>\n",
       "      <th>Seat_comfort</th>\n",
       "      <th>Seat_Class</th>\n",
       "      <th>Arrival_time_convenient</th>\n",
       "      <th>Catering</th>\n",
       "      <th>Platform_location</th>\n",
       "      <th>Onboardwifi_service</th>\n",
       "      <th>Onboard_entertainment</th>\n",
       "      <th>Online_support</th>\n",
       "      <th>Onlinebooking_Ease</th>\n",
       "      <th>Onboard_service</th>\n",
       "      <th>Leg_room</th>\n",
       "      <th>Baggage_handling</th>\n",
       "      <th>Checkin_service</th>\n",
       "      <th>Cleanliness</th>\n",
       "      <th>Online_boarding</th>\n",
       "    </tr>\n",
       "  </thead>\n",
       "  <tbody>\n",
       "    <tr>\n",
       "      <th>0</th>\n",
       "      <td>0</td>\n",
       "      <td>0</td>\n",
       "      <td>0.576923</td>\n",
       "      <td>0</td>\n",
       "      <td>0</td>\n",
       "      <td>0.052156</td>\n",
       "      <td>0.000000</td>\n",
       "      <td>0.003157</td>\n",
       "      <td>2</td>\n",
       "      <td>1</td>\n",
       "      <td>5</td>\n",
       "      <td>5</td>\n",
       "      <td>5</td>\n",
       "      <td>4</td>\n",
       "      <td>2</td>\n",
       "      <td>3</td>\n",
       "      <td>2</td>\n",
       "      <td>2</td>\n",
       "      <td>3</td>\n",
       "      <td>2</td>\n",
       "      <td>4</td>\n",
       "      <td>2</td>\n",
       "      <td>1</td>\n",
       "    </tr>\n",
       "    <tr>\n",
       "      <th>1</th>\n",
       "      <td>1</td>\n",
       "      <td>0</td>\n",
       "      <td>0.525641</td>\n",
       "      <td>1</td>\n",
       "      <td>1</td>\n",
       "      <td>0.505110</td>\n",
       "      <td>0.005653</td>\n",
       "      <td>0.000000</td>\n",
       "      <td>1</td>\n",
       "      <td>0</td>\n",
       "      <td>5</td>\n",
       "      <td>1</td>\n",
       "      <td>2</td>\n",
       "      <td>4</td>\n",
       "      <td>1</td>\n",
       "      <td>4</td>\n",
       "      <td>4</td>\n",
       "      <td>5</td>\n",
       "      <td>2</td>\n",
       "      <td>1</td>\n",
       "      <td>2</td>\n",
       "      <td>4</td>\n",
       "      <td>4</td>\n",
       "    </tr>\n",
       "    <tr>\n",
       "      <th>2</th>\n",
       "      <td>0</td>\n",
       "      <td>0</td>\n",
       "      <td>0.461538</td>\n",
       "      <td>0</td>\n",
       "      <td>0</td>\n",
       "      <td>0.237519</td>\n",
       "      <td>0.048367</td>\n",
       "      <td>0.075126</td>\n",
       "      <td>2</td>\n",
       "      <td>1</td>\n",
       "      <td>2</td>\n",
       "      <td>2</td>\n",
       "      <td>2</td>\n",
       "      <td>2</td>\n",
       "      <td>4</td>\n",
       "      <td>5</td>\n",
       "      <td>5</td>\n",
       "      <td>5</td>\n",
       "      <td>5</td>\n",
       "      <td>5</td>\n",
       "      <td>4</td>\n",
       "      <td>5</td>\n",
       "      <td>5</td>\n",
       "    </tr>\n",
       "    <tr>\n",
       "      <th>3</th>\n",
       "      <td>0</td>\n",
       "      <td>0</td>\n",
       "      <td>0.474359</td>\n",
       "      <td>0</td>\n",
       "      <td>0</td>\n",
       "      <td>0.171502</td>\n",
       "      <td>0.008166</td>\n",
       "      <td>0.011364</td>\n",
       "      <td>3</td>\n",
       "      <td>0</td>\n",
       "      <td>2</td>\n",
       "      <td>3</td>\n",
       "      <td>2</td>\n",
       "      <td>3</td>\n",
       "      <td>2</td>\n",
       "      <td>3</td>\n",
       "      <td>3</td>\n",
       "      <td>3</td>\n",
       "      <td>3</td>\n",
       "      <td>3</td>\n",
       "      <td>4</td>\n",
       "      <td>3</td>\n",
       "      <td>3</td>\n",
       "    </tr>\n",
       "    <tr>\n",
       "      <th>4</th>\n",
       "      <td>0</td>\n",
       "      <td>0</td>\n",
       "      <td>0.551282</td>\n",
       "      <td>0</td>\n",
       "      <td>0</td>\n",
       "      <td>0.453659</td>\n",
       "      <td>0.000000</td>\n",
       "      <td>0.000000</td>\n",
       "      <td>3</td>\n",
       "      <td>0</td>\n",
       "      <td>3</td>\n",
       "      <td>3</td>\n",
       "      <td>3</td>\n",
       "      <td>2</td>\n",
       "      <td>4</td>\n",
       "      <td>5</td>\n",
       "      <td>4</td>\n",
       "      <td>4</td>\n",
       "      <td>4</td>\n",
       "      <td>4</td>\n",
       "      <td>4</td>\n",
       "      <td>4</td>\n",
       "      <td>4</td>\n",
       "    </tr>\n",
       "  </tbody>\n",
       "</table>\n",
       "</div>"
      ],
      "text/plain": [
       "  Gender CustomerType       Age TypeTravel Travel_Class  Travel_Distance  \\\n",
       "0      0            0  0.576923          0            0         0.052156   \n",
       "1      1            0  0.525641          1            1         0.505110   \n",
       "2      0            0  0.461538          0            0         0.237519   \n",
       "3      0            0  0.474359          0            0         0.171502   \n",
       "4      0            0  0.551282          0            0         0.453659   \n",
       "\n",
       "   DepartureDelay_in_Mins  ArrivalDelay_in_Mins Seat_comfort Seat_Class  \\\n",
       "0                0.000000              0.003157            2          1   \n",
       "1                0.005653              0.000000            1          0   \n",
       "2                0.048367              0.075126            2          1   \n",
       "3                0.008166              0.011364            3          0   \n",
       "4                0.000000              0.000000            3          0   \n",
       "\n",
       "  Arrival_time_convenient Catering Platform_location Onboardwifi_service  \\\n",
       "0                       5        5                 5                   4   \n",
       "1                       5        1                 2                   4   \n",
       "2                       2        2                 2                   2   \n",
       "3                       2        3                 2                   3   \n",
       "4                       3        3                 3                   2   \n",
       "\n",
       "  Onboard_entertainment Online_support Onlinebooking_Ease Onboard_service  \\\n",
       "0                     2              3                  2               2   \n",
       "1                     1              4                  4               5   \n",
       "2                     4              5                  5               5   \n",
       "3                     2              3                  3               3   \n",
       "4                     4              5                  4               4   \n",
       "\n",
       "  Leg_room Baggage_handling Checkin_service Cleanliness Online_boarding  \n",
       "0        3                2               4           2               1  \n",
       "1        2                1               2           4               4  \n",
       "2        5                5               4           5               5  \n",
       "3        3                3               4           3               3  \n",
       "4        4                4               4           4               4  "
      ]
     },
     "execution_count": 62,
     "metadata": {},
     "output_type": "execute_result"
    }
   ],
   "source": [
    "X.head()"
   ]
  },
  {
   "cell_type": "markdown",
   "metadata": {},
   "source": [
    "## NEURAL NETWORK"
   ]
  },
  {
   "cell_type": "code",
   "execution_count": 161,
   "metadata": {},
   "outputs": [],
   "source": [
    "param_grid = {\n",
    "    'hidden_layer_sizes': [30], # 50, 200\n",
    "    'max_iter': [500], #5000,2500\n",
    "    'solver': ['adam'], #sgd, adam\n",
    "    'tol': [0.01], \n",
    "}\n",
    "\n",
    "nncl = MLPClassifier(random_state=1)\n",
    "\n",
    "grid_search = GridSearchCV(estimator = nncl, param_grid = param_grid, cv = 5)"
   ]
  },
  {
   "cell_type": "code",
   "execution_count": 162,
   "metadata": {},
   "outputs": [
    {
     "data": {
      "text/plain": [
       "{'hidden_layer_sizes': 30, 'max_iter': 500, 'solver': 'adam', 'tol': 0.01}"
      ]
     },
     "execution_count": 162,
     "metadata": {},
     "output_type": "execute_result"
    }
   ],
   "source": [
    "grid_search.fit(X,y)\n",
    "grid_search.best_params_"
   ]
  },
  {
   "cell_type": "code",
   "execution_count": 163,
   "metadata": {},
   "outputs": [
    {
     "data": {
      "text/plain": [
       "MLPClassifier(hidden_layer_sizes=30, max_iter=500, random_state=1, tol=0.01)"
      ]
     },
     "execution_count": 163,
     "metadata": {},
     "output_type": "execute_result"
    }
   ],
   "source": [
    "best_grid = grid_search.best_estimator_\n",
    "best_grid"
   ]
  },
  {
   "cell_type": "code",
   "execution_count": 164,
   "metadata": {},
   "outputs": [
    {
     "data": {
      "text/plain": [
       "0.8141090184523746"
      ]
     },
     "execution_count": 164,
     "metadata": {},
     "output_type": "execute_result"
    }
   ],
   "source": [
    "Neural_network_acc=best_grid.score(X,y) \n",
    "Neural_network_acc"
   ]
  },
  {
   "cell_type": "code",
   "execution_count": 160,
   "metadata": {
    "scrolled": true
   },
   "outputs": [
    {
     "data": {
      "text/plain": [
       "0.8583480832211635"
      ]
     },
     "execution_count": 160,
     "metadata": {},
     "output_type": "execute_result"
    }
   ],
   "source": [
    "#300 5000\n",
    "Neural_network_acc=best_grid.score(X,y) \n",
    "Neural_network_acc"
   ]
  },
  {
   "cell_type": "code",
   "execution_count": null,
   "metadata": {},
   "outputs": [],
   "source": []
  },
  {
   "cell_type": "code",
   "execution_count": null,
   "metadata": {},
   "outputs": [],
   "source": []
  },
  {
   "cell_type": "code",
   "execution_count": null,
   "metadata": {},
   "outputs": [],
   "source": []
  },
  {
   "cell_type": "code",
   "execution_count": null,
   "metadata": {},
   "outputs": [],
   "source": []
  },
  {
   "cell_type": "code",
   "execution_count": null,
   "metadata": {},
   "outputs": [],
   "source": []
  },
  {
   "cell_type": "markdown",
   "metadata": {},
   "source": [
    "### XG BOOST"
   ]
  },
  {
   "cell_type": "code",
   "execution_count": 102,
   "metadata": {},
   "outputs": [],
   "source": [
    "from sklearn import metrics\n",
    "from sklearn.metrics import accuracy_score\n",
    "import xgboost as xgb\n",
    "from xgboost import XGBClassifier"
   ]
  },
  {
   "cell_type": "code",
   "execution_count": 136,
   "metadata": {},
   "outputs": [],
   "source": [
    "param_grid = {\n",
    "    'max_depth': [8],\n",
    "    'max_features': [8],\n",
    "    'min_samples_leaf': [60],\n",
    "    'min_samples_split': [600], \n",
    "    'n_estimators': [600] \n",
    "}\n",
    "\n",
    "#rfcl = RandomForestClassifier(random_state=1)\n",
    "\n",
    "#grid_search = GridSearchCV(estimator = rfcl, param_grid = param_grid, cv = 7)"
   ]
  },
  {
   "cell_type": "code",
   "execution_count": 137,
   "metadata": {},
   "outputs": [],
   "source": [
    "xgb = XGBClassifier(learning_rate=0.1,subsample=0.8)\n",
    "grid_search = GridSearchCV(estimator = xgb, param_grid = param_grid, cv = 5)"
   ]
  },
  {
   "cell_type": "code",
   "execution_count": 138,
   "metadata": {},
   "outputs": [
    {
     "name": "stdout",
     "output_type": "stream",
     "text": [
      "[16:24:52] WARNING: C:/Users/Administrator/workspace/xgboost-win64_release_1.3.0/src/learner.cc:541: \n",
      "Parameters: { max_features, min_samples_leaf, min_samples_split } might not be used.\n",
      "\n",
      "  This may not be accurate due to some parameters are only used in language bindings but\n",
      "  passed down to XGBoost core.  Or some parameters are not used but slip through this\n",
      "  verification. Please open an issue if you find above cases.\n",
      "\n",
      "\n",
      "[16:24:52] WARNING: C:/Users/Administrator/workspace/xgboost-win64_release_1.3.0/src/learner.cc:1061: Starting in XGBoost 1.3.0, the default evaluation metric used with the objective 'binary:logistic' was changed from 'error' to 'logloss'. Explicitly set eval_metric if you'd like to restore the old behavior.\n",
      "[16:25:17] WARNING: C:/Users/Administrator/workspace/xgboost-win64_release_1.3.0/src/learner.cc:541: \n",
      "Parameters: { max_features, min_samples_leaf, min_samples_split } might not be used.\n",
      "\n",
      "  This may not be accurate due to some parameters are only used in language bindings but\n",
      "  passed down to XGBoost core.  Or some parameters are not used but slip through this\n",
      "  verification. Please open an issue if you find above cases.\n",
      "\n",
      "\n",
      "[16:25:18] WARNING: C:/Users/Administrator/workspace/xgboost-win64_release_1.3.0/src/learner.cc:1061: Starting in XGBoost 1.3.0, the default evaluation metric used with the objective 'binary:logistic' was changed from 'error' to 'logloss'. Explicitly set eval_metric if you'd like to restore the old behavior.\n",
      "[16:25:44] WARNING: C:/Users/Administrator/workspace/xgboost-win64_release_1.3.0/src/learner.cc:541: \n",
      "Parameters: { max_features, min_samples_leaf, min_samples_split } might not be used.\n",
      "\n",
      "  This may not be accurate due to some parameters are only used in language bindings but\n",
      "  passed down to XGBoost core.  Or some parameters are not used but slip through this\n",
      "  verification. Please open an issue if you find above cases.\n",
      "\n",
      "\n",
      "[16:25:44] WARNING: C:/Users/Administrator/workspace/xgboost-win64_release_1.3.0/src/learner.cc:1061: Starting in XGBoost 1.3.0, the default evaluation metric used with the objective 'binary:logistic' was changed from 'error' to 'logloss'. Explicitly set eval_metric if you'd like to restore the old behavior.\n",
      "[16:26:11] WARNING: C:/Users/Administrator/workspace/xgboost-win64_release_1.3.0/src/learner.cc:541: \n",
      "Parameters: { max_features, min_samples_leaf, min_samples_split } might not be used.\n",
      "\n",
      "  This may not be accurate due to some parameters are only used in language bindings but\n",
      "  passed down to XGBoost core.  Or some parameters are not used but slip through this\n",
      "  verification. Please open an issue if you find above cases.\n",
      "\n",
      "\n",
      "[16:26:11] WARNING: C:/Users/Administrator/workspace/xgboost-win64_release_1.3.0/src/learner.cc:1061: Starting in XGBoost 1.3.0, the default evaluation metric used with the objective 'binary:logistic' was changed from 'error' to 'logloss'. Explicitly set eval_metric if you'd like to restore the old behavior.\n",
      "[16:26:38] WARNING: C:/Users/Administrator/workspace/xgboost-win64_release_1.3.0/src/learner.cc:541: \n",
      "Parameters: { max_features, min_samples_leaf, min_samples_split } might not be used.\n",
      "\n",
      "  This may not be accurate due to some parameters are only used in language bindings but\n",
      "  passed down to XGBoost core.  Or some parameters are not used but slip through this\n",
      "  verification. Please open an issue if you find above cases.\n",
      "\n",
      "\n",
      "[16:26:38] WARNING: C:/Users/Administrator/workspace/xgboost-win64_release_1.3.0/src/learner.cc:1061: Starting in XGBoost 1.3.0, the default evaluation metric used with the objective 'binary:logistic' was changed from 'error' to 'logloss'. Explicitly set eval_metric if you'd like to restore the old behavior.\n",
      "[16:27:05] WARNING: C:/Users/Administrator/workspace/xgboost-win64_release_1.3.0/src/learner.cc:541: \n",
      "Parameters: { max_features, min_samples_leaf, min_samples_split } might not be used.\n",
      "\n",
      "  This may not be accurate due to some parameters are only used in language bindings but\n",
      "  passed down to XGBoost core.  Or some parameters are not used but slip through this\n",
      "  verification. Please open an issue if you find above cases.\n",
      "\n",
      "\n",
      "[16:27:05] WARNING: C:/Users/Administrator/workspace/xgboost-win64_release_1.3.0/src/learner.cc:1061: Starting in XGBoost 1.3.0, the default evaluation metric used with the objective 'binary:logistic' was changed from 'error' to 'logloss'. Explicitly set eval_metric if you'd like to restore the old behavior.\n"
     ]
    },
    {
     "data": {
      "text/plain": [
       "GridSearchCV(cv=5,\n",
       "             estimator=XGBClassifier(base_score=None, booster=None,\n",
       "                                     colsample_bylevel=None,\n",
       "                                     colsample_bynode=None,\n",
       "                                     colsample_bytree=None, gamma=None,\n",
       "                                     gpu_id=None, importance_type='gain',\n",
       "                                     interaction_constraints=None,\n",
       "                                     learning_rate=0.1, max_delta_step=None,\n",
       "                                     max_depth=None, min_child_weight=None,\n",
       "                                     missing=nan, monotone_constraints=None,\n",
       "                                     n_estimators=100, n_jobs=None,\n",
       "                                     num_parallel_tree=None, random_state=None,\n",
       "                                     reg_alpha=None, reg_lambda=None,\n",
       "                                     scale_pos_weight=None, subsample=0.8,\n",
       "                                     tree_method=None, validate_parameters=None,\n",
       "                                     verbosity=None),\n",
       "             param_grid={'max_depth': [8], 'max_features': [8],\n",
       "                         'min_samples_leaf': [60], 'min_samples_split': [600],\n",
       "                         'n_estimators': [600]})"
      ]
     },
     "execution_count": 138,
     "metadata": {},
     "output_type": "execute_result"
    }
   ],
   "source": [
    "grid_search.fit(X, y)"
   ]
  },
  {
   "cell_type": "code",
   "execution_count": 139,
   "metadata": {},
   "outputs": [
    {
     "data": {
      "text/plain": [
       "{'max_depth': 8,\n",
       " 'max_features': 8,\n",
       " 'min_samples_leaf': 60,\n",
       " 'min_samples_split': 600,\n",
       " 'n_estimators': 600}"
      ]
     },
     "execution_count": 139,
     "metadata": {},
     "output_type": "execute_result"
    }
   ],
   "source": [
    "grid_search.best_params_"
   ]
  },
  {
   "cell_type": "code",
   "execution_count": 140,
   "metadata": {},
   "outputs": [],
   "source": [
    "best_grid1 = grid_search.best_estimator_"
   ]
  },
  {
   "cell_type": "code",
   "execution_count": 141,
   "metadata": {},
   "outputs": [
    {
     "data": {
      "text/plain": [
       "XGBClassifier(base_score=0.5, booster='gbtree', colsample_bylevel=1,\n",
       "              colsample_bynode=1, colsample_bytree=1, gamma=0, gpu_id=-1,\n",
       "              importance_type='gain', interaction_constraints='',\n",
       "              learning_rate=0.1, max_delta_step=0, max_depth=8, max_features=8,\n",
       "              min_child_weight=1, min_samples_leaf=60, min_samples_split=600,\n",
       "              missing=nan, monotone_constraints='()', n_estimators=600,\n",
       "              n_jobs=8, num_parallel_tree=1, random_state=0, reg_alpha=0,\n",
       "              reg_lambda=1, scale_pos_weight=1, subsample=0.8,\n",
       "              tree_method='exact', validate_parameters=1, verbosity=None)"
      ]
     },
     "execution_count": 141,
     "metadata": {},
     "output_type": "execute_result"
    }
   ],
   "source": [
    "best_grid1"
   ]
  },
  {
   "cell_type": "code",
   "execution_count": 142,
   "metadata": {},
   "outputs": [
    {
     "data": {
      "text/plain": [
       "0.9988765354898199"
      ]
     },
     "execution_count": 142,
     "metadata": {},
     "output_type": "execute_result"
    }
   ],
   "source": [
    "xgb_acc=grid_search.score(X,y) \n",
    "xgb_acc"
   ]
  },
  {
   "cell_type": "code",
   "execution_count": 85,
   "metadata": {},
   "outputs": [
    {
     "data": {
      "text/plain": [
       "0.9903445644455279"
      ]
     },
     "execution_count": 85,
     "metadata": {},
     "output_type": "execute_result"
    }
   ],
   "source": [
    "## Highest 8,8,60,600,600 cv 3 accuracy of 0.9544127\n",
    "gbcl_acc=grid_search.score(X,y) \n",
    "gbcl_acc"
   ]
  },
  {
   "cell_type": "code",
   "execution_count": 143,
   "metadata": {},
   "outputs": [],
   "source": [
    "xgb_test_predict = grid_search.predict(test)"
   ]
  },
  {
   "cell_type": "code",
   "execution_count": 144,
   "metadata": {},
   "outputs": [],
   "source": [
    "test_data['Overall_Experience'] = xgb_test_predict"
   ]
  },
  {
   "cell_type": "code",
   "execution_count": 145,
   "metadata": {},
   "outputs": [],
   "source": [
    "Submittion_XGB = test_data[['ID','Overall_Experience']]"
   ]
  },
  {
   "cell_type": "code",
   "execution_count": 146,
   "metadata": {},
   "outputs": [],
   "source": [
    "Submittion_XGB .to_csv('Sharath_XGB.csv',index=False) "
   ]
  },
  {
   "cell_type": "code",
   "execution_count": null,
   "metadata": {},
   "outputs": [],
   "source": []
  },
  {
   "cell_type": "code",
   "execution_count": null,
   "metadata": {},
   "outputs": [],
   "source": []
  },
  {
   "cell_type": "code",
   "execution_count": null,
   "metadata": {},
   "outputs": [],
   "source": []
  },
  {
   "cell_type": "code",
   "execution_count": null,
   "metadata": {},
   "outputs": [],
   "source": []
  },
  {
   "cell_type": "code",
   "execution_count": null,
   "metadata": {},
   "outputs": [],
   "source": []
  },
  {
   "cell_type": "code",
   "execution_count": 79,
   "metadata": {},
   "outputs": [],
   "source": []
  },
  {
   "cell_type": "code",
   "execution_count": 107,
   "metadata": {
    "scrolled": true
   },
   "outputs": [
    {
     "name": "stdout",
     "output_type": "stream",
     "text": [
      "\n",
      "\n",
      "feature: Gender\n",
      "['0', '1']\n",
      "Categories (2, object): ['0', '1']\n",
      "[0 1]\n",
      "\n",
      "\n",
      "feature: CustomerType\n",
      "['0', '1']\n",
      "Categories (2, object): ['0', '1']\n",
      "[0 1]\n",
      "\n",
      "\n",
      "feature: TypeTravel\n",
      "['0', '1']\n",
      "Categories (2, object): ['0', '1']\n",
      "[0 1]\n",
      "\n",
      "\n",
      "feature: Travel_Class\n",
      "['0', '1']\n",
      "Categories (2, object): ['0', '1']\n",
      "[0 1]\n",
      "\n",
      "\n",
      "feature: Seat_comfort\n",
      "['2', '1', '3', '4', '5', '0']\n",
      "Categories (6, object): ['0', '1', '2', '3', '4', '5']\n",
      "[2 1 3 4 5 0]\n",
      "\n",
      "\n",
      "feature: Seat_Class\n",
      "['1', '0']\n",
      "Categories (2, object): ['0', '1']\n",
      "[1 0]\n",
      "\n",
      "\n",
      "feature: Arrival_time_convenient\n",
      "['5', '2', '3', '4', '1', '0']\n",
      "Categories (6, object): ['0', '1', '2', '3', '4', '5']\n",
      "[5 2 3 4 1 0]\n",
      "\n",
      "\n",
      "feature: Catering\n",
      "['5', '1', '2', '3', '4', '0']\n",
      "Categories (6, object): ['0', '1', '2', '3', '4', '5']\n",
      "[5 1 2 3 4 0]\n",
      "\n",
      "\n",
      "feature: Platform_location\n",
      "['5', '2', '3', '1', '4', '0']\n",
      "Categories (6, object): ['0', '1', '2', '3', '4', '5']\n",
      "[5 2 3 1 4 0]\n",
      "\n",
      "\n",
      "feature: Onboardwifi_service\n",
      "['4', '2', '3', '5', '1', '0']\n",
      "Categories (6, object): ['0', '1', '2', '3', '4', '5']\n",
      "[4 2 3 5 1 0]\n",
      "\n",
      "\n",
      "feature: Onboard_entertainment\n",
      "['2', '1', '4', '5', '3', '0']\n",
      "Categories (6, object): ['0', '1', '2', '3', '4', '5']\n",
      "[2 1 4 5 3 0]\n",
      "\n",
      "\n",
      "feature: Online_support\n",
      "['3', '4', '5', '1', '2', '0']\n",
      "Categories (6, object): ['0', '1', '2', '3', '4', '5']\n",
      "[3 4 5 1 2 0]\n",
      "\n",
      "\n",
      "feature: Onlinebooking_Ease\n",
      "['2', '4', '5', '3', '1', '0']\n",
      "Categories (6, object): ['0', '1', '2', '3', '4', '5']\n",
      "[2 4 5 3 1 0]\n",
      "\n",
      "\n",
      "feature: Onboard_service\n",
      "['2', '5', '3', '4', '1', '0']\n",
      "Categories (6, object): ['0', '1', '2', '3', '4', '5']\n",
      "[2 5 3 4 1 0]\n",
      "\n",
      "\n",
      "feature: Leg_room\n",
      "['3', '2', '5', '4', '1', '0']\n",
      "Categories (6, object): ['0', '1', '2', '3', '4', '5']\n",
      "[3 2 5 4 1 0]\n",
      "\n",
      "\n",
      "feature: Baggage_handling\n",
      "['2', '1', '5', '3', '4']\n",
      "Categories (5, object): ['1', '2', '3', '4', '5']\n",
      "[1 0 4 2 3]\n",
      "\n",
      "\n",
      "feature: Checkin_service\n",
      "['4', '2', '3', '5', '1', '0']\n",
      "Categories (6, object): ['0', '1', '2', '3', '4', '5']\n",
      "[4 2 3 5 1 0]\n",
      "\n",
      "\n",
      "feature: Cleanliness\n",
      "['2', '4', '5', '3', '1', '0']\n",
      "Categories (6, object): ['0', '1', '2', '3', '4', '5']\n",
      "[2 4 5 3 1 0]\n",
      "\n",
      "\n",
      "feature: Online_boarding\n",
      "['1', '4', '5', '3', '2', '0']\n",
      "Categories (6, object): ['0', '1', '2', '3', '4', '5']\n",
      "[1 4 5 3 2 0]\n"
     ]
    }
   ],
   "source": [
    "for feature in X.columns: \n",
    "    if X[feature].dtype == 'object': \n",
    "        print('\\n')\n",
    "        print('feature:',feature)\n",
    "        print(pd.Categorical(X[feature].unique()))\n",
    "        print(pd.Categorical(X[feature].unique()).codes)\n",
    "        X[feature] = pd.Categorical(X[feature]).codes"
   ]
  },
  {
   "cell_type": "code",
   "execution_count": 108,
   "metadata": {},
   "outputs": [
    {
     "name": "stdout",
     "output_type": "stream",
     "text": [
      "\n",
      "\n",
      "feature: Gender\n",
      "['0', '1']\n",
      "Categories (2, object): ['0', '1']\n",
      "[0 1]\n",
      "\n",
      "\n",
      "feature: CustomerType\n",
      "['0', '1']\n",
      "Categories (2, object): ['0', '1']\n",
      "[0 1]\n",
      "\n",
      "\n",
      "feature: TypeTravel\n",
      "['0', '1']\n",
      "Categories (2, object): ['0', '1']\n",
      "[0 1]\n",
      "\n",
      "\n",
      "feature: Travel_Class\n",
      "['0', '1']\n",
      "Categories (2, object): ['0', '1']\n",
      "[0 1]\n",
      "\n",
      "\n",
      "feature: Seat_comfort\n",
      "['3', '0', '5', '1', '2', '4']\n",
      "Categories (6, object): ['0', '1', '2', '3', '4', '5']\n",
      "[3 0 5 1 2 4]\n",
      "\n",
      "\n",
      "feature: Seat_Class\n",
      "['1', '0']\n",
      "Categories (2, object): ['0', '1']\n",
      "[1 0]\n",
      "\n",
      "\n",
      "feature: Arrival_time_convenient\n",
      "['3', '4', '5', '0', '2', '1']\n",
      "Categories (6, object): ['0', '1', '2', '3', '4', '5']\n",
      "[3 4 5 0 2 1]\n",
      "\n",
      "\n",
      "feature: Catering\n",
      "['3', '1', '5', '2', '4', '0']\n",
      "Categories (6, object): ['0', '1', '2', '3', '4', '5']\n",
      "[3 1 5 2 4 0]\n",
      "\n",
      "\n",
      "feature: Platform_location\n",
      "['3', '5', '2', '1', '4']\n",
      "Categories (5, object): ['1', '2', '3', '4', '5']\n",
      "[2 4 1 0 3]\n",
      "\n",
      "\n",
      "feature: Onboardwifi_service\n",
      "['2', '3', '5', '1', '4', '0']\n",
      "Categories (6, object): ['0', '1', '2', '3', '4', '5']\n",
      "[2 3 5 1 4 0]\n",
      "\n",
      "\n",
      "feature: Onboard_entertainment\n",
      "['5', '1', '3', '4', '2', '0']\n",
      "Categories (6, object): ['0', '1', '2', '3', '4', '5']\n",
      "[5 1 3 4 2 0]\n",
      "\n",
      "\n",
      "feature: Online_support\n",
      "['4', '3', '5', '2', '1']\n",
      "Categories (5, object): ['1', '2', '3', '4', '5']\n",
      "[3 2 4 1 0]\n",
      "\n",
      "\n",
      "feature: Onlinebooking_Ease\n",
      "['5', '3', '2', '1', '4', '0']\n",
      "Categories (6, object): ['0', '1', '2', '3', '4', '5']\n",
      "[5 3 2 1 4 0]\n",
      "\n",
      "\n",
      "feature: Onboard_service\n",
      "['5', '2', '3', '4', '1']\n",
      "Categories (5, object): ['1', '2', '3', '4', '5']\n",
      "[4 1 2 3 0]\n",
      "\n",
      "\n",
      "feature: Leg_room\n",
      "['5', '3', '2', '4', '1', '0']\n",
      "Categories (6, object): ['0', '1', '2', '3', '4', '5']\n",
      "[5 3 2 4 1 0]\n",
      "\n",
      "\n",
      "feature: Baggage_handling\n",
      "['5', '4', '2', '3', '1']\n",
      "Categories (5, object): ['1', '2', '3', '4', '5']\n",
      "[4 3 1 2 0]\n",
      "\n",
      "\n",
      "feature: Checkin_service\n",
      "['4', '3', '5', '2', '1']\n",
      "Categories (5, object): ['1', '2', '3', '4', '5']\n",
      "[3 2 4 1 0]\n",
      "\n",
      "\n",
      "feature: Cleanliness\n",
      "['5', '2', '3', '4', '1']\n",
      "Categories (5, object): ['1', '2', '3', '4', '5']\n",
      "[4 1 2 3 0]\n",
      "\n",
      "\n",
      "feature: Online_boarding\n",
      "['1', '3', '5', '4', '2', '0']\n",
      "Categories (6, object): ['0', '1', '2', '3', '4', '5']\n",
      "[1 3 5 4 2 0]\n"
     ]
    }
   ],
   "source": [
    "for feature in test.columns: \n",
    "    if test[feature].dtype == 'object': \n",
    "        print('\\n')\n",
    "        print('feature:',feature)\n",
    "        print(pd.Categorical(test[feature].unique()))\n",
    "        print(pd.Categorical(test[feature].unique()).codes)\n",
    "        test[feature] = pd.Categorical(test[feature]).codes"
   ]
  }
 ],
 "metadata": {
  "kernelspec": {
   "display_name": "Python 3",
   "language": "python",
   "name": "python3"
  },
  "language_info": {
   "codemirror_mode": {
    "name": "ipython",
    "version": 3
   },
   "file_extension": ".py",
   "mimetype": "text/x-python",
   "name": "python",
   "nbconvert_exporter": "python",
   "pygments_lexer": "ipython3",
   "version": "3.7.9"
  }
 },
 "nbformat": 4,
 "nbformat_minor": 4
}
